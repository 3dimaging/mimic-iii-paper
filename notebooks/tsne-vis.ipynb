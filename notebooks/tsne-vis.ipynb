{
 "cells": [
  {
   "cell_type": "markdown",
   "metadata": {},
   "source": [
    "# Visualisation of the MIMIC data using t-SNE"
   ]
  },
  {
   "cell_type": "markdown",
   "metadata": {},
   "source": [
    "For a background on t-Distributed Stochastic Neighbor Embedding (t-SNE), see Laurens van der Maaten's blog: https://lvdmaaten.github.io/tsne/\n"
   ]
  },
  {
   "cell_type": "code",
   "execution_count": null,
   "metadata": {
    "collapsed": false
   },
   "outputs": [],
   "source": [
    "# config\n",
    "# for speed, run on a subset of 5000 patient\n",
    "run_on_subset = False\n",
    "# should the proportion of each class be equalized?\n",
    "balanceclasses = False \n",
    "# Random state. prev 354235\n",
    "randomstate = 9324503\n",
    "# Scale columns with zero mean and unit variance\n",
    "scaleinput = False"
   ]
  },
  {
   "cell_type": "code",
   "execution_count": null,
   "metadata": {
    "collapsed": true
   },
   "outputs": [],
   "source": [
    "# imports\n",
    "import numpy as np\n",
    "import pandas as pd\n",
    "import matplotlib.pyplot as plt\n",
    "%matplotlib inline\n",
    "import psycopg2\n",
    "from sklearn.manifold import TSNE\n",
    "from sklearn.preprocessing import MinMaxScaler"
   ]
  },
  {
   "cell_type": "code",
   "execution_count": null,
   "metadata": {
    "collapsed": false
   },
   "outputs": [],
   "source": [
    "# display TSNE documentation\n",
    "help(TSNE)"
   ]
  },
  {
   "cell_type": "code",
   "execution_count": null,
   "metadata": {
    "collapsed": false
   },
   "outputs": [],
   "source": [
    "# Connect to MIMIC\n",
    "sqluser = 'postgres'\n",
    "dbname = 'mimic'\n",
    "schema_name = 'mimiciii'\n",
    "con = psycopg2.connect(dbname=dbname, user=sqluser)\n",
    "cur = con.cursor()\n",
    "cur.execute('SET search_path to ' + schema_name)\n",
    "# cur.close()\n",
    "# con.close()"
   ]
  },
  {
   "cell_type": "code",
   "execution_count": null,
   "metadata": {
    "collapsed": false
   },
   "outputs": [],
   "source": [
    "query = \"\"\"\n",
    "WITH firstvals as (\n",
    "    SELECT rank() OVER (PARTITION BY vi.subject_id ORDER BY ic.intime ASC) as icuorder,\n",
    "    vi.*, ic.intime, di.icd9_code, dd.short_title, ic.los_icu, ic.hospital_expire_flag,\n",
    "    ic.los_hospital, ic.age, ic.gender, an.angus,\n",
    "    el.congestive_heart_failure, el.cardiac_arrhythmias,el.valvular_disease,el.pulmonary_circulation,\n",
    "    el.peripheral_vascular,el.hypertension,el.paralysis,el.other_neurological,el.chronic_pulmonary,\n",
    "    el.diabetes_uncomplicated,el.diabetes_complicated,el.hypothyroidism,el.renal_failure,el.liver_disease,\n",
    "    el.peptic_ulcer,el.aids,el.lymphoma,el.metastatic_cancer,el.solid_tumor,el.rheumatoid_arthritis,\n",
    "    el.coagulopathy,el.obesity,el.weight_loss,el.fluid_electrolyte,el.blood_loss_anemia,\n",
    "    el.deficiency_anemias,el.alcohol_abuse,el.drug_abuse,el.psychoses,el.depression\n",
    "    FROM vitalsfirstday vi\n",
    "    INNER JOIN diagnoses_icd di\n",
    "    ON vi.hadm_id = di.hadm_id\n",
    "    INNER JOIN d_icd_diagnoses dd\n",
    "    ON di.icd9_code = dd.icd9_code\n",
    "    INNER JOIN icustay_detail ic\n",
    "    ON vi.icustay_id = ic.icustay_id\n",
    "    INNER JOIN elixhauser_ahrq el\n",
    "    ON vi.hadm_id = el.hadm_id\n",
    "    INNER JOIN angus_sepsis an\n",
    "    ON vi.hadm_id = an.hadm_id \n",
    "    WHERE di.seq_num = 1\n",
    "    ORDER BY vi.subject_id)\n",
    "SELECT *\n",
    "FROM firstvals\n",
    "WHERE age >=16\n",
    "AND los_icu >=1\n",
    "\"\"\"\n",
    "\n",
    "phys = pd.read_sql_query(query,con)"
   ]
  },
  {
   "cell_type": "code",
   "execution_count": null,
   "metadata": {
    "collapsed": false
   },
   "outputs": [],
   "source": [
    "# Encode\n",
    "# Encode gender\n",
    "phys['gender'] = pd.factorize(phys['gender'])[0]\n",
    "phys['icd9_code_enc'] = pd.factorize(phys['icd9_code'])[0]"
   ]
  },
  {
   "cell_type": "code",
   "execution_count": null,
   "metadata": {
    "collapsed": false
   },
   "outputs": [],
   "source": [
    "# vars of interest\n",
    "\n",
    "# physvars = ['heartrate_min', 'heartrate_max', 'sysbp_min', 'sysbp_max', 'diasbp_min', 'diasbp_max', 'meanbp_min', \n",
    "#             'meanbp_max', 'resprate_min', 'resprate_max', 'tempc_min', 'tempc_max', 'spo2_min', 'spo2_max', \n",
    "#             'glucose_min', 'glucose_max']\n",
    "\n",
    "# physvars = ['heartrate_mean', 'sysbp_mean', 'diasbp_mean', 'meanbp_mean', \n",
    "#             'resprate_mean', 'tempc_mean', 'spo2_mean', 'glucose_mean'] \n",
    "\n",
    "physvars = ['heartrate_min', 'heartrate_max', 'sysbp_min', 'sysbp_max', 'diasbp_min', 'diasbp_max', 'meanbp_min', \n",
    "            'meanbp_max', 'resprate_min', 'resprate_max', 'tempc_min', 'tempc_max', 'spo2_min', 'spo2_max', \n",
    "            'glucose_min', 'glucose_max', 'heartrate_mean', 'sysbp_mean', 'diasbp_mean', 'meanbp_mean', \n",
    "            'resprate_mean', 'tempc_mean', 'spo2_mean', 'glucose_mean'] "
   ]
  },
  {
   "cell_type": "code",
   "execution_count": null,
   "metadata": {
    "collapsed": true
   },
   "outputs": [],
   "source": [
    "# remove rows with nan\n",
    "phys.dropna(inplace=True, subset=physvars)"
   ]
  },
  {
   "cell_type": "code",
   "execution_count": null,
   "metadata": {
    "collapsed": true
   },
   "outputs": [],
   "source": [
    "# Limit the dataset for speed\n",
    "if run_on_subset:\n",
    "    n_to_compute=10000\n",
    "    phys = phys[:n_to_compute]\n",
    "    print('Running on limited subset.')"
   ]
  },
  {
   "cell_type": "code",
   "execution_count": null,
   "metadata": {
    "collapsed": false
   },
   "outputs": [],
   "source": [
    "# Scale columns with zero mean and unit variance\n",
    "if scaleinput: \n",
    "    print('Columns scaled with with zero mean and unit variance.')\n",
    "    phys[physvars] = MinMaxScaler().fit_transform(phys[physvars])"
   ]
  },
  {
   "cell_type": "code",
   "execution_count": null,
   "metadata": {
    "collapsed": false
   },
   "outputs": [],
   "source": [
    "# run the tsne\n",
    "X_tsne = TSNE(learning_rate=1000,random_state=randomstate).fit_transform(phys[physvars].values)"
   ]
  },
  {
   "cell_type": "code",
   "execution_count": null,
   "metadata": {
    "collapsed": true
   },
   "outputs": [],
   "source": [
    "# add X_tsne to phys dataframe\n",
    "phys['X_tsne1'] = X_tsne[:, 0]\n",
    "phys['X_tsne2'] = X_tsne[:, 1]"
   ]
  },
  {
   "cell_type": "code",
   "execution_count": null,
   "metadata": {
    "collapsed": false
   },
   "outputs": [],
   "source": [
    "# define label for colouring plot\n",
    "# phys['label']=phys.gender\n",
    "# phys['label']=phys.weight_loss*6\n",
    "# phys['label']=phys.angus*6\n",
    "phys['label']=phys.hospital_expire_flag*6\n",
    "# phys['label']=pd.qcut(phys.los_hospital,11,labels=range(1,12))\n",
    "# phys['label']=pd.qcut(phys.los_icu,8,labels=range(0,8))\n",
    "# phys['label']=pd.qcut(phys.icd9_code_enc,9,labels=range(0,9))\n",
    "# phys['label']=pd.qcut(phys.age,10,labels=range(0,10))"
   ]
  },
  {
   "cell_type": "code",
   "execution_count": null,
   "metadata": {
    "collapsed": false
   },
   "outputs": [],
   "source": [
    "# balance selection of classes with weight vector\n",
    "if balanceclasses:\n",
    "    labelcount=phys.label.value_counts(normalize=True)\n",
    "    phys['labelweight']=np.ones(len(phys))\n",
    "    for la,wt in labelcount.iteritems():\n",
    "        phys.loc[phys.label==la,'labelweight'] = 1-wt\n",
    "    # get sample approx equal classes\n",
    "    totalnum=phys.label.value_counts().min()*phys.label.nunique()\n",
    "    # sample with replacement when balancing classes\n",
    "    samplewithreplace = False\n",
    "    phys = phys.sample(n=totalnum, replace=samplewithreplace, weights=phys.labelweight)\n",
    "    print('Class numbers balanced')\n",
    "print('Number of classes: {}'.format(phys.label.nunique()))\n",
    "print('Number of samples: {}'.format(phys.label.count()))"
   ]
  },
  {
   "cell_type": "code",
   "execution_count": null,
   "metadata": {
    "collapsed": false
   },
   "outputs": [],
   "source": [
    "# set colours for plot\n",
    "# \"Tableau 20\" colors as RGB.   \n",
    "tableau20 = [(31, 119, 180), (174, 199, 232), (255, 127, 14), (255, 187, 120),    \n",
    "             (44, 160, 44), (152, 223, 138), (214, 39, 40), (255, 152, 150),    \n",
    "             (148, 103, 189), (197, 176, 213), (140, 86, 75), (196, 156, 148),    \n",
    "             (227, 119, 194), (247, 182, 210), (127, 127, 127), (199, 199, 199),    \n",
    "             (188, 189, 34), (219, 219, 141), (23, 190, 207), (158, 218, 229)]  \n",
    "  \n",
    "# Scale the RGB values to the [0, 1] range, which is the format matplotlib accepts.    \n",
    "for i in range(len(tableau20)):    \n",
    "    r, g, b = tableau20[i]    \n",
    "    tableau20[i] = (r / 255., g / 255., b / 255.)\n",
    "\n",
    "# plot\n",
    "plt.figure(figsize=(10, 8))\n",
    "col = np.array(tableau20)[[phys.label]]\n",
    "plt.scatter(phys['X_tsne1'], phys['X_tsne2'], \n",
    "            facecolor=col, edgecolor='None', marker='o', s=50,\n",
    "            alpha=0.4)"
   ]
  }
 ],
 "metadata": {
  "kernelspec": {
   "display_name": "Python 2",
   "language": "python",
   "name": "python2"
  },
  "language_info": {
   "codemirror_mode": {
    "name": "ipython",
    "version": 2
   },
   "file_extension": ".py",
   "mimetype": "text/x-python",
   "name": "python",
   "nbconvert_exporter": "python",
   "pygments_lexer": "ipython2",
   "version": "2.7.11"
  }
 },
 "nbformat": 4,
 "nbformat_minor": 0
}
