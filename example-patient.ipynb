{
 "cells": [
  {
   "cell_type": "markdown",
   "metadata": {},
   "source": [
    "# Plot example data for a single patient"
   ]
  },
  {
   "cell_type": "code",
   "execution_count": 2,
   "metadata": {
    "collapsed": true
   },
   "outputs": [],
   "source": [
    "# Import libraries\n",
    "import numpy as np\n",
    "import pandas as pd\n",
    "import matplotlib.pyplot as plt\n",
    "import psycopg2\n",
    "%matplotlib inline"
   ]
  },
  {
   "cell_type": "code",
   "execution_count": 3,
   "metadata": {
    "collapsed": false
   },
   "outputs": [],
   "source": [
    "# Config\n",
    "sqluser = 'postgres'\n",
    "dbname = 'mimic'\n",
    "schema_name = 'mimiciii'"
   ]
  },
  {
   "cell_type": "code",
   "execution_count": 4,
   "metadata": {
    "collapsed": true
   },
   "outputs": [],
   "source": [
    "# Connect to MIMIC\n",
    "con = psycopg2.connect(dbname=dbname, user=sqluser)\n",
    "cur = con.cursor()\n",
    "cur.execute('SET search_path to ' + schema_name)\n",
    "# cur.close()\n",
    "# con.close()"
   ]
  },
  {
   "cell_type": "code",
   "execution_count": 5,
   "metadata": {
    "collapsed": false
   },
   "outputs": [],
   "source": [
    "# Load admissions\n",
    "query = \"\"\"\n",
    "SELECT ad.subject_id\n",
    "  , ad.hadm_id\n",
    "  , ad.admission_type\n",
    "  , ad.diagnosis\n",
    "  , ic.icustay_id\n",
    "  , ic.first_careunit\n",
    "  , ic.last_careunit\n",
    "  , ic.intime as icu_intime\n",
    "  , ad.hospital_expire_flag\n",
    "  , pa.expire_flag\n",
    "FROM admissions ad\n",
    "INNER JOIN icustays ic\n",
    "ON ad.subject_id = ic.subject_id\n",
    "INNER JOIN patients pa\n",
    "ON ad.subject_id = pa.subject_id\n",
    "WHERE ad.subject_id = 40080\n",
    "\"\"\"\n",
    "\n",
    "admissions = pd.read_sql_query(query,con)"
   ]
  },
  {
   "cell_type": "code",
   "execution_count": 6,
   "metadata": {
    "collapsed": false
   },
   "outputs": [
    {
     "data": {
      "text/html": [
       "<div>\n",
       "<table border=\"1\" class=\"dataframe\">\n",
       "  <thead>\n",
       "    <tr style=\"text-align: right;\">\n",
       "      <th></th>\n",
       "      <th>subject_id</th>\n",
       "      <th>hadm_id</th>\n",
       "      <th>admission_type</th>\n",
       "      <th>diagnosis</th>\n",
       "      <th>icustay_id</th>\n",
       "      <th>first_careunit</th>\n",
       "      <th>last_careunit</th>\n",
       "      <th>icu_intime</th>\n",
       "      <th>hospital_expire_flag</th>\n",
       "      <th>expire_flag</th>\n",
       "    </tr>\n",
       "  </thead>\n",
       "  <tbody>\n",
       "    <tr>\n",
       "      <th>0</th>\n",
       "      <td>40080</td>\n",
       "      <td>162107</td>\n",
       "      <td>EMERGENCY</td>\n",
       "      <td>CONGESTIVE HEART FAILURE</td>\n",
       "      <td>252522</td>\n",
       "      <td>MICU</td>\n",
       "      <td>MICU</td>\n",
       "      <td>2106-05-31 16:43:46</td>\n",
       "      <td>0</td>\n",
       "      <td>1</td>\n",
       "    </tr>\n",
       "  </tbody>\n",
       "</table>\n",
       "</div>"
      ],
      "text/plain": [
       "   subject_id  hadm_id admission_type                 diagnosis  icustay_id  \\\n",
       "0       40080   162107      EMERGENCY  CONGESTIVE HEART FAILURE      252522   \n",
       "\n",
       "  first_careunit last_careunit          icu_intime  hospital_expire_flag  \\\n",
       "0           MICU          MICU 2106-05-31 16:43:46                     0   \n",
       "\n",
       "  expire_flag  \n",
       "0           1  "
      ]
     },
     "execution_count": 6,
     "metadata": {},
     "output_type": "execute_result"
    }
   ],
   "source": [
    "# First few rows of admissions\n",
    "admissions.head()"
   ]
  },
  {
   "cell_type": "code",
   "execution_count": 7,
   "metadata": {
    "collapsed": false
   },
   "outputs": [],
   "source": [
    "# Load chartevents\n",
    "query = \"\"\"\n",
    "SELECT ce.icustay_id\n",
    "  , ce.charttime\n",
    "  , ce.charttime - ie.intime AS icutime\n",
    "  , di.label\n",
    "  , ce.value\n",
    "  , ce.valuenum\n",
    "  , ce.valueuom\n",
    "FROM chartevents ce\n",
    "INNER join d_items di\n",
    "ON ce.itemid = di.itemid\n",
    "INNER join icustays ie\n",
    "ON ce.icustay_id = ie.icustay_id\n",
    "WHERE ce.icustay_id = 252522\n",
    "AND error != 1\n",
    "ORDER BY ce.charttime\n",
    "\"\"\"\n",
    "\n",
    "charts = pd.read_sql_query(query,con)"
   ]
  },
  {
   "cell_type": "code",
   "execution_count": 8,
   "metadata": {
    "collapsed": false
   },
   "outputs": [
    {
     "data": {
      "text/html": [
       "<div>\n",
       "<table border=\"1\" class=\"dataframe\">\n",
       "  <thead>\n",
       "    <tr style=\"text-align: right;\">\n",
       "      <th></th>\n",
       "      <th>icustay_id</th>\n",
       "      <th>charttime</th>\n",
       "      <th>icutime</th>\n",
       "      <th>label</th>\n",
       "      <th>value</th>\n",
       "      <th>valuenum</th>\n",
       "      <th>valueuom</th>\n",
       "    </tr>\n",
       "  </thead>\n",
       "  <tbody>\n",
       "    <tr>\n",
       "      <th>0</th>\n",
       "      <td>252522</td>\n",
       "      <td>2106-05-31 17:16:00</td>\n",
       "      <td>00:32:14</td>\n",
       "      <td>Non Invasive Blood Pressure systolic</td>\n",
       "      <td>104</td>\n",
       "      <td>104</td>\n",
       "      <td>mmHg</td>\n",
       "    </tr>\n",
       "    <tr>\n",
       "      <th>1</th>\n",
       "      <td>252522</td>\n",
       "      <td>2106-05-31 17:16:00</td>\n",
       "      <td>00:32:14</td>\n",
       "      <td>Heart Rate</td>\n",
       "      <td>90</td>\n",
       "      <td>90</td>\n",
       "      <td>bpm</td>\n",
       "    </tr>\n",
       "    <tr>\n",
       "      <th>2</th>\n",
       "      <td>252522</td>\n",
       "      <td>2106-05-31 17:16:00</td>\n",
       "      <td>00:32:14</td>\n",
       "      <td>Respiratory Rate</td>\n",
       "      <td>28</td>\n",
       "      <td>28</td>\n",
       "      <td>insp/min</td>\n",
       "    </tr>\n",
       "    <tr>\n",
       "      <th>3</th>\n",
       "      <td>252522</td>\n",
       "      <td>2106-05-31 17:16:00</td>\n",
       "      <td>00:32:14</td>\n",
       "      <td>Non Invasive Blood Pressure mean</td>\n",
       "      <td>74</td>\n",
       "      <td>74</td>\n",
       "      <td>mmHg</td>\n",
       "    </tr>\n",
       "    <tr>\n",
       "      <th>4</th>\n",
       "      <td>252522</td>\n",
       "      <td>2106-05-31 17:16:00</td>\n",
       "      <td>00:32:14</td>\n",
       "      <td>Non Invasive Blood Pressure diastolic</td>\n",
       "      <td>63</td>\n",
       "      <td>63</td>\n",
       "      <td>mmHg</td>\n",
       "    </tr>\n",
       "  </tbody>\n",
       "</table>\n",
       "</div>"
      ],
      "text/plain": [
       "   icustay_id           charttime  icutime  \\\n",
       "0      252522 2106-05-31 17:16:00 00:32:14   \n",
       "1      252522 2106-05-31 17:16:00 00:32:14   \n",
       "2      252522 2106-05-31 17:16:00 00:32:14   \n",
       "3      252522 2106-05-31 17:16:00 00:32:14   \n",
       "4      252522 2106-05-31 17:16:00 00:32:14   \n",
       "\n",
       "                                   label value  valuenum  valueuom  \n",
       "0   Non Invasive Blood Pressure systolic   104       104      mmHg  \n",
       "1                             Heart Rate    90        90       bpm  \n",
       "2                       Respiratory Rate    28        28  insp/min  \n",
       "3       Non Invasive Blood Pressure mean    74        74      mmHg  \n",
       "4  Non Invasive Blood Pressure diastolic    63        63      mmHg  "
      ]
     },
     "execution_count": 8,
     "metadata": {},
     "output_type": "execute_result"
    }
   ],
   "source": [
    "# First few rows of charts\n",
    "charts.head()"
   ]
  },
  {
   "cell_type": "code",
   "execution_count": 9,
   "metadata": {
    "collapsed": false
   },
   "outputs": [],
   "source": [
    "# Load outputevents\n",
    "query = \"\"\"\n",
    "SELECT oe.icustay_id\n",
    "  , oe.charttime\n",
    "  , oe.charttime - ie.intime AS icutime\n",
    "  , di.label\n",
    "  , oe.value\n",
    "  , oe.valueuom\n",
    "FROM outputevents oe \n",
    "INNER JOIN icustays ie\n",
    "  ON oe.icustay_id = ie.icustay_id\n",
    "INNER JOIN d_items di\n",
    "  ON oe.itemid = di.itemid\n",
    "WHERE oe.subject_id = 40080\n",
    "ORDER BY oe.charttime\n",
    "\"\"\"\n",
    "\n",
    "outputs = pd.read_sql_query(query,con)"
   ]
  },
  {
   "cell_type": "code",
   "execution_count": 10,
   "metadata": {
    "collapsed": false
   },
   "outputs": [
    {
     "data": {
      "text/html": [
       "<div>\n",
       "<table border=\"1\" class=\"dataframe\">\n",
       "  <thead>\n",
       "    <tr style=\"text-align: right;\">\n",
       "      <th></th>\n",
       "      <th>icustay_id</th>\n",
       "      <th>charttime</th>\n",
       "      <th>icutime</th>\n",
       "      <th>label</th>\n",
       "      <th>value</th>\n",
       "      <th>valueuom</th>\n",
       "    </tr>\n",
       "  </thead>\n",
       "  <tbody>\n",
       "    <tr>\n",
       "      <th>0</th>\n",
       "      <td>252522</td>\n",
       "      <td>2106-05-31 17:29:00</td>\n",
       "      <td>00:45:14</td>\n",
       "      <td>Pre-Admission</td>\n",
       "      <td>60</td>\n",
       "      <td>mL</td>\n",
       "    </tr>\n",
       "    <tr>\n",
       "      <th>1</th>\n",
       "      <td>252522</td>\n",
       "      <td>2106-05-31 20:18:00</td>\n",
       "      <td>03:34:14</td>\n",
       "      <td>Foley</td>\n",
       "      <td>80</td>\n",
       "      <td>mL</td>\n",
       "    </tr>\n",
       "    <tr>\n",
       "      <th>2</th>\n",
       "      <td>252522</td>\n",
       "      <td>2106-05-31 21:00:00</td>\n",
       "      <td>04:16:14</td>\n",
       "      <td>Foley</td>\n",
       "      <td>60</td>\n",
       "      <td>mL</td>\n",
       "    </tr>\n",
       "    <tr>\n",
       "      <th>3</th>\n",
       "      <td>252522</td>\n",
       "      <td>2106-05-31 22:00:00</td>\n",
       "      <td>05:16:14</td>\n",
       "      <td>Foley</td>\n",
       "      <td>60</td>\n",
       "      <td>mL</td>\n",
       "    </tr>\n",
       "    <tr>\n",
       "      <th>4</th>\n",
       "      <td>252522</td>\n",
       "      <td>2106-05-31 23:00:00</td>\n",
       "      <td>06:16:14</td>\n",
       "      <td>Foley</td>\n",
       "      <td>60</td>\n",
       "      <td>mL</td>\n",
       "    </tr>\n",
       "  </tbody>\n",
       "</table>\n",
       "</div>"
      ],
      "text/plain": [
       "   icustay_id           charttime  icutime          label  value valueuom\n",
       "0      252522 2106-05-31 17:29:00 00:45:14  Pre-Admission     60       mL\n",
       "1      252522 2106-05-31 20:18:00 03:34:14          Foley     80       mL\n",
       "2      252522 2106-05-31 21:00:00 04:16:14          Foley     60       mL\n",
       "3      252522 2106-05-31 22:00:00 05:16:14          Foley     60       mL\n",
       "4      252522 2106-05-31 23:00:00 06:16:14          Foley     60       mL"
      ]
     },
     "execution_count": 10,
     "metadata": {},
     "output_type": "execute_result"
    }
   ],
   "source": [
    "# First few rows of outputs\n",
    "outputs.head()"
   ]
  },
  {
   "cell_type": "code",
   "execution_count": 11,
   "metadata": {
    "collapsed": false
   },
   "outputs": [],
   "source": [
    "# Load inputevents\n",
    "query = \"\"\"\n",
    "SELECT inp.icustay_id\n",
    "  , inp.starttime\n",
    "  , inp.endtime\n",
    "  , inp.starttime - ie.intime AS icustarttime\n",
    "  , inp.endtime - ie.intime AS icuendtime\n",
    "  , di.label\n",
    "  , inp.amount\n",
    "  , inp.amountuom\n",
    "  , inp.rate\n",
    "  , inp.rateuom\n",
    "FROM inputevents_mv inp \n",
    "INNER join icustays ie\n",
    "  ON inp.icustay_id = ie.icustay_id\n",
    "INNER join d_items di\n",
    "  ON inp.itemid = di.itemid\n",
    "WHERE inp.subject_id = 40080\n",
    "AND lower(inp.statusdescription) != 'rewritten'\n",
    "ORDER BY inp.starttime\n",
    "\"\"\"\n",
    "\n",
    "inputs = pd.read_sql_query(query,con)"
   ]
  },
  {
   "cell_type": "code",
   "execution_count": 12,
   "metadata": {
    "collapsed": false
   },
   "outputs": [
    {
     "data": {
      "text/html": [
       "<div>\n",
       "<table border=\"1\" class=\"dataframe\">\n",
       "  <thead>\n",
       "    <tr style=\"text-align: right;\">\n",
       "      <th></th>\n",
       "      <th>icustay_id</th>\n",
       "      <th>starttime</th>\n",
       "      <th>endtime</th>\n",
       "      <th>icustarttime</th>\n",
       "      <th>icuendtime</th>\n",
       "      <th>label</th>\n",
       "      <th>amount</th>\n",
       "      <th>amountuom</th>\n",
       "      <th>rate</th>\n",
       "      <th>rateuom</th>\n",
       "    </tr>\n",
       "  </thead>\n",
       "  <tbody>\n",
       "    <tr>\n",
       "      <th>0</th>\n",
       "      <td>252522</td>\n",
       "      <td>2106-05-31 17:29:00</td>\n",
       "      <td>2106-05-31 21:59:00</td>\n",
       "      <td>00:45:14</td>\n",
       "      <td>05:15:14</td>\n",
       "      <td>NaCl 0.9%</td>\n",
       "      <td>45.000001</td>\n",
       "      <td>mL</td>\n",
       "      <td>10</td>\n",
       "      <td>mL/hour</td>\n",
       "    </tr>\n",
       "    <tr>\n",
       "      <th>1</th>\n",
       "      <td>252522</td>\n",
       "      <td>2106-05-31 19:30:00</td>\n",
       "      <td>2106-06-01 03:00:00</td>\n",
       "      <td>02:46:14</td>\n",
       "      <td>10:16:14</td>\n",
       "      <td>Furosemide (Lasix)</td>\n",
       "      <td>0.037500</td>\n",
       "      <td>mg</td>\n",
       "      <td>5</td>\n",
       "      <td>mg/hour</td>\n",
       "    </tr>\n",
       "    <tr>\n",
       "      <th>2</th>\n",
       "      <td>252522</td>\n",
       "      <td>2106-05-31 19:30:00</td>\n",
       "      <td>2106-06-01 03:00:00</td>\n",
       "      <td>02:46:14</td>\n",
       "      <td>10:16:14</td>\n",
       "      <td>NaCl 0.9%</td>\n",
       "      <td>37.500001</td>\n",
       "      <td>mL</td>\n",
       "      <td>5</td>\n",
       "      <td>mL/hour</td>\n",
       "    </tr>\n",
       "    <tr>\n",
       "      <th>3</th>\n",
       "      <td>252522</td>\n",
       "      <td>2106-05-31 20:00:00</td>\n",
       "      <td>2106-05-31 20:01:00</td>\n",
       "      <td>03:16:14</td>\n",
       "      <td>03:17:14</td>\n",
       "      <td>Gastric Meds</td>\n",
       "      <td>30.000000</td>\n",
       "      <td>mL</td>\n",
       "      <td>NaN</td>\n",
       "      <td></td>\n",
       "    </tr>\n",
       "    <tr>\n",
       "      <th>4</th>\n",
       "      <td>252522</td>\n",
       "      <td>2106-05-31 20:00:00</td>\n",
       "      <td>2106-05-31 20:01:00</td>\n",
       "      <td>03:16:14</td>\n",
       "      <td>03:17:14</td>\n",
       "      <td>Lansoprazole (Prevacid)</td>\n",
       "      <td>1.000000</td>\n",
       "      <td>dose</td>\n",
       "      <td>NaN</td>\n",
       "      <td></td>\n",
       "    </tr>\n",
       "  </tbody>\n",
       "</table>\n",
       "</div>"
      ],
      "text/plain": [
       "   icustay_id           starttime             endtime  icustarttime  \\\n",
       "0      252522 2106-05-31 17:29:00 2106-05-31 21:59:00      00:45:14   \n",
       "1      252522 2106-05-31 19:30:00 2106-06-01 03:00:00      02:46:14   \n",
       "2      252522 2106-05-31 19:30:00 2106-06-01 03:00:00      02:46:14   \n",
       "3      252522 2106-05-31 20:00:00 2106-05-31 20:01:00      03:16:14   \n",
       "4      252522 2106-05-31 20:00:00 2106-05-31 20:01:00      03:16:14   \n",
       "\n",
       "   icuendtime                    label     amount amountuom  rate  rateuom  \n",
       "0    05:15:14                NaCl 0.9%  45.000001        mL    10  mL/hour  \n",
       "1    10:16:14       Furosemide (Lasix)   0.037500        mg     5  mg/hour  \n",
       "2    10:16:14                NaCl 0.9%  37.500001        mL     5  mL/hour  \n",
       "3    03:17:14             Gastric Meds  30.000000        mL   NaN           \n",
       "4    03:17:14  Lansoprazole (Prevacid)   1.000000      dose   NaN           "
      ]
     },
     "execution_count": 12,
     "metadata": {},
     "output_type": "execute_result"
    }
   ],
   "source": [
    "# First few rows of inputs\n",
    "inputs.head()"
   ]
  },
  {
   "cell_type": "code",
   "execution_count": 13,
   "metadata": {
    "collapsed": false
   },
   "outputs": [],
   "source": [
    "# Load labevents\n",
    "query = \"\"\"\n",
    "SELECT le.subject_id\n",
    "  , ie.icustay_id\n",
    "  , le.charttime\n",
    "  , le.charttime - ie.intime AS icutime\n",
    "  , di.label\n",
    "  , le.value\n",
    "  , le.valuenum\n",
    "  , le.valueuom\n",
    "FROM labevents le\n",
    "INNER join icustays ie\n",
    "  ON le.subject_id = ie.subject_id\n",
    "  AND le.charttime >= ie.intime\n",
    "  AND le.charttime <= ie.outtime\n",
    "INNER JOIN d_labitems di\n",
    "  ON le.itemid = di.itemid\n",
    "WHERE le.subject_id = 40080\n",
    "ORDER BY le.charttime\n",
    "\"\"\"\n",
    "\n",
    "labs = pd.read_sql_query(query,con)"
   ]
  },
  {
   "cell_type": "code",
   "execution_count": 14,
   "metadata": {
    "collapsed": false
   },
   "outputs": [
    {
     "data": {
      "text/html": [
       "<div>\n",
       "<table border=\"1\" class=\"dataframe\">\n",
       "  <thead>\n",
       "    <tr style=\"text-align: right;\">\n",
       "      <th></th>\n",
       "      <th>subject_id</th>\n",
       "      <th>icustay_id</th>\n",
       "      <th>charttime</th>\n",
       "      <th>icutime</th>\n",
       "      <th>label</th>\n",
       "      <th>value</th>\n",
       "      <th>valuenum</th>\n",
       "      <th>valueuom</th>\n",
       "    </tr>\n",
       "  </thead>\n",
       "  <tbody>\n",
       "    <tr>\n",
       "      <th>0</th>\n",
       "      <td>40080</td>\n",
       "      <td>252522</td>\n",
       "      <td>2106-05-31 21:21:00</td>\n",
       "      <td>04:37:14</td>\n",
       "      <td>SODIUM</td>\n",
       "      <td>156</td>\n",
       "      <td>156.0</td>\n",
       "      <td>mEq/L</td>\n",
       "    </tr>\n",
       "    <tr>\n",
       "      <th>1</th>\n",
       "      <td>40080</td>\n",
       "      <td>252522</td>\n",
       "      <td>2106-05-31 21:21:00</td>\n",
       "      <td>04:37:14</td>\n",
       "      <td>POTASSIUM</td>\n",
       "      <td>3.5</td>\n",
       "      <td>3.5</td>\n",
       "      <td>mEq/L</td>\n",
       "    </tr>\n",
       "    <tr>\n",
       "      <th>2</th>\n",
       "      <td>40080</td>\n",
       "      <td>252522</td>\n",
       "      <td>2106-05-31 21:21:00</td>\n",
       "      <td>04:37:14</td>\n",
       "      <td>CHLORIDE</td>\n",
       "      <td>116</td>\n",
       "      <td>116.0</td>\n",
       "      <td>mEq/L</td>\n",
       "    </tr>\n",
       "    <tr>\n",
       "      <th>3</th>\n",
       "      <td>40080</td>\n",
       "      <td>252522</td>\n",
       "      <td>2106-06-01 03:38:00</td>\n",
       "      <td>10:54:14</td>\n",
       "      <td>BICARBONATE</td>\n",
       "      <td>33</td>\n",
       "      <td>33.0</td>\n",
       "      <td>mEq/L</td>\n",
       "    </tr>\n",
       "    <tr>\n",
       "      <th>4</th>\n",
       "      <td>40080</td>\n",
       "      <td>252522</td>\n",
       "      <td>2106-06-01 03:38:00</td>\n",
       "      <td>10:54:14</td>\n",
       "      <td>ANION GAP</td>\n",
       "      <td>12</td>\n",
       "      <td>12.0</td>\n",
       "      <td>mEq/L</td>\n",
       "    </tr>\n",
       "  </tbody>\n",
       "</table>\n",
       "</div>"
      ],
      "text/plain": [
       "   subject_id  icustay_id           charttime  icutime        label value  \\\n",
       "0       40080      252522 2106-05-31 21:21:00 04:37:14       SODIUM   156   \n",
       "1       40080      252522 2106-05-31 21:21:00 04:37:14    POTASSIUM   3.5   \n",
       "2       40080      252522 2106-05-31 21:21:00 04:37:14     CHLORIDE   116   \n",
       "3       40080      252522 2106-06-01 03:38:00 10:54:14  BICARBONATE    33   \n",
       "4       40080      252522 2106-06-01 03:38:00 10:54:14    ANION GAP    12   \n",
       "\n",
       "   valuenum valueuom  \n",
       "0     156.0    mEq/L  \n",
       "1       3.5    mEq/L  \n",
       "2     116.0    mEq/L  \n",
       "3      33.0    mEq/L  \n",
       "4      12.0    mEq/L  "
      ]
     },
     "execution_count": 14,
     "metadata": {},
     "output_type": "execute_result"
    }
   ],
   "source": [
    "# First few rows of labs\n",
    "labs.head()"
   ]
  },
  {
   "cell_type": "code",
   "execution_count": 101,
   "metadata": {
    "collapsed": false
   },
   "outputs": [],
   "source": [
    "# Snip data to first 24 hours\n",
    "charts = charts.loc[charts.icutime.dt.days==0]\n",
    "outputs = outputs.loc[outputs.icutime.dt.days==0]\n",
    "inputs = inputs.loc[inputs.icustarttime.dt.days==0]\n",
    "labs = labs.loc[labs.icutime.dt.days==0]"
   ]
  },
  {
   "cell_type": "code",
   "execution_count": 105,
   "metadata": {
    "collapsed": false,
    "scrolled": false
   },
   "outputs": [
    {
     "data": {
      "text/plain": [
       "<matplotlib.text.Text at 0x110b67e10>"
      ]
     },
     "execution_count": 105,
     "metadata": {},
     "output_type": "execute_result"
    },
    {
     "data": {
      "image/png": "[encoded data removed]",
      "text/plain": [
       "<matplotlib.figure.Figure at 0x10ac2e150>"
      ]
     },
     "metadata": {},
     "output_type": "display_data"
    }
   ],
   "source": [
    "# Plot sample data over first 24 hours from admission to ICU\n",
    "# Credit: Randal Olson for styling advice (http://www.randalolson.com/2014/06/28/)\n",
    "\n",
    "# Prepare the size of the figure\n",
    "fig = plt.figure(figsize=(20, 16))\n",
    "plt.rcParams.update({'font.size': 22})\n",
    "\n",
    "# \"Tableau 20\" colors as RGB.   \n",
    "tableau20 = [(31, 119, 180), (174, 199, 232), (255, 127, 14), (255, 187, 120),    \n",
    "             (44, 160, 44), (152, 223, 138), (214, 39, 40), (255, 152, 150),    \n",
    "             (148, 103, 189), (197, 176, 213), (140, 86, 75), (196, 156, 148),    \n",
    "             (227, 119, 194), (247, 182, 210), (127, 127, 127), (199, 199, 199),    \n",
    "             (188, 189, 34), (219, 219, 141), (23, 190, 207), (158, 218, 229)]    \n",
    "  \n",
    "# Scale the RGB values to the [0, 1] range, which is the format matplotlib accepts.    \n",
    "for i in range(len(tableau20)):    \n",
    "    r, g, b = tableau20[i]    \n",
    "    tableau20[i] = (r / 255., g / 255., b / 255.)\n",
    "    \n",
    "# Remove the plot frame lines. They are unnecessary chartjunk.    \n",
    "ax = plt.subplot(111)    \n",
    "ax.spines[\"top\"].set_visible(False)    \n",
    "ax.spines[\"bottom\"].set_visible(True)    \n",
    "ax.spines[\"right\"].set_visible(False)    \n",
    "ax.spines[\"left\"].set_visible(True)    \n",
    "  \n",
    "# Ensure that the axis ticks only show up on the bottom and left of the plot.    \n",
    "# Ticks on the right and top of the plot are generally unnecessary chartjunk.    \n",
    "ax.get_xaxis().tick_bottom()    \n",
    "ax.get_yaxis().tick_left()    \n",
    "\n",
    "# Limit the range of the plot to only where the data is.       \n",
    "plt.ylim(0,160) \n",
    "\n",
    "# Plot a few vital signs\n",
    "plt.plot(charts.icutime[charts.label=='Heart Rate'], \n",
    "         charts.valuenum[charts.label=='Heart Rate'],\n",
    "         color=tableau20[1], marker='x', markersize=6, label='Heart rate')\n",
    "\n",
    "plt.plot(charts.icutime[charts.label=='Respiratory Rate'], \n",
    "         charts.valuenum[charts.label=='Respiratory Rate'],\n",
    "         color=tableau20[2], marker='x', markersize=6, label='Resp. rate')\n",
    "\n",
    "# plt.plot(charts.icutime[charts.label=='Non Invasive Blood Pressure mean'], \n",
    "#          charts.valuenum[charts.label=='Non Invasive Blood Pressure mean'],\n",
    "#          color='red', markersize=6, label='BP mean')\n",
    "\n",
    "plt.plot(charts.icutime[charts.label=='Non Invasive Blood Pressure systolic'], \n",
    "         charts.valuenum[charts.label=='Non Invasive Blood Pressure systolic'],\n",
    "         color=tableau20[3], lw=2.5, \n",
    "         marker='x', markersize=6, label='BP sys.')\n",
    "\n",
    "plt.plot(charts.icutime[charts.label=='Non Invasive Blood Pressure diastolic'], \n",
    "         charts.valuenum[charts.label=='Non Invasive Blood Pressure diastolic'],\n",
    "         color=tableau20[4], lw=2.5, \n",
    "         marker='x', markersize=6, label='BP dias.')\n",
    "\n",
    "plt.plot(charts.icutime[charts.label=='Temperature Fahrenheit'], \n",
    "         (charts.valuenum[charts.label=='Temperature Fahrenheit']-32)/1.8,\n",
    "         color=tableau20[5], lw=2.5, \n",
    "         marker='x', markersize=6, label='Temp.')\n",
    "\n",
    "plt.plot(charts.icutime[charts.label=='O2 saturation pulseoxymetry'], \n",
    "         charts.valuenum[charts.label=='O2 saturation pulseoxymetry'],\n",
    "         color=tableau20[6], lw=2.5, \n",
    "         marker='x', markersize=6, label='O2 sat.')\n",
    "\n",
    "# Plot some laboratory values\n",
    "plt.plot(labs.icutime[labs.label=='HEMATOCRIT'], \n",
    "         labs.valuenum[labs.label=='HEMATOCRIT'], \n",
    "         color=tableau20[7], lw=2.5, \n",
    "         marker='x', markersize=6, label='Haematocrit')\n",
    "\n",
    "plt.plot(labs.icutime[labs.label=='HEMOGLOBIN'], \n",
    "         labs.valuenum[labs.label=='HEMOGLOBIN'], \n",
    "         color=tableau20[8], lw=2.5,\n",
    "         marker='x', markersize=6, label='Hemoglobin')\n",
    "\n",
    "# Plot some input/output events\n",
    "plt.plot(inputs.icustarttime[inputs.amountuom=='mL'], \n",
    "         inputs.amount[inputs.amountuom=='mL'].cumsum()/100, \n",
    "         color=tableau20[9], lw=2.5,\n",
    "         marker='x', markersize=6, label='Intake volume, dL')\n",
    "\n",
    "plt.plot(outputs.icutime, \n",
    "         outputs.value.cumsum()/100, \n",
    "         color=tableau20[10], lw=2.5marker='x', markersize=6, label='Output volume, dL')\n",
    "\n",
    "# Plot Glasgow Coma Scale measurements every hour or so\n",
    "# plt.text(-10,155,'GCS - Eye Opening',fontsize=14)\n",
    "for i, txt in enumerate(charts.value[charts.label=='GCS - Eye Opening'].values):\n",
    "    if np.mod(i,6)==0 and i < 65:\n",
    "        plt.annotate(txt, (charts.icutime[charts.label=='GCS - Eye Opening'].values[i],155),fontsize=15)\n",
    "\n",
    "# plt.text(-60,150,'GCS - Motor Response',fontsize=14)\n",
    "for i, txt in enumerate(charts.value[charts.label=='GCS - Motor Response'].values):\n",
    "    if np.mod(i,6)==0 and i < 65:\n",
    "        plt.annotate(txt, (charts.icutime[charts.label=='GCS - Motor Response'].values[i],150),fontsize=15)\n",
    "\n",
    "# plt.text(-60,145,'GCS - Verbal Response',fontsize=15)  \n",
    "for i, txt in enumerate(charts.value[charts.label=='GCS - Verbal Response'].values):\n",
    "    if np.mod(i,6)==0 and i < 65:\n",
    "        plt.annotate(txt, (charts.icutime[charts.label=='GCS - Verbal Response'].values[i],145),fontsize=15)\n",
    "\n",
    "plt.legend(loc=5,fontsize=18)\n",
    "plt.xlabel('Time (hours)',fontsize=22)\n",
    "plt.ylabel('Absolute value',fontsize=22)\n",
    "\n",
    "# Save the figure\n",
    "# fig.savefig('examplepatient.pdf', bbox_inches='tight')"
   ]
  },
  {
   "cell_type": "code",
   "execution_count": 103,
   "metadata": {
    "collapsed": false
   },
   "outputs": [
    {
     "ename": "TypeError",
     "evalue": "'int' object has no attribute '__getitem__'",
     "output_type": "error",
     "traceback": [
      "\u001b[0;31m---------------------------------------------------------------------------\u001b[0m",
      "\u001b[0;31mTypeError\u001b[0m                                 Traceback (most recent call last)",
      "\u001b[0;32m<ipython-input-103-f2003bf4516a>\u001b[0m in \u001b[0;36m<module>\u001b[0;34m()\u001b[0m\n\u001b[0;32m----> 1\u001b[0;31m \u001b[0mcharts\u001b[0m\u001b[0;34m.\u001b[0m\u001b[0micutime\u001b[0m\u001b[0;34m.\u001b[0m\u001b[0mdt\u001b[0m\u001b[0;34m.\u001b[0m\u001b[0mseconds\u001b[0m\u001b[0;34m/\u001b[0m\u001b[0;36m60\u001b[0m\u001b[0;34m[\u001b[0m\u001b[0mcharts\u001b[0m\u001b[0;34m.\u001b[0m\u001b[0mlabel\u001b[0m\u001b[0;34m==\u001b[0m\u001b[0;34m'Non Invasive Blood Pressure systolic'\u001b[0m\u001b[0;34m]\u001b[0m\u001b[0;34m\u001b[0m\u001b[0m\n\u001b[0m",
      "\u001b[0;31mTypeError\u001b[0m: 'int' object has no attribute '__getitem__'"
     ]
    }
   ],
   "source": []
  },
  {
   "cell_type": "code",
   "execution_count": null,
   "metadata": {
    "collapsed": true
   },
   "outputs": [],
   "source": []
  }
 ],
 "metadata": {
  "kernelspec": {
   "display_name": "Python 2",
   "language": "python",
   "name": "python2"
  },
  "language_info": {
   "codemirror_mode": {
    "name": "ipython",
    "version": 2
   },
   "file_extension": ".py",
   "mimetype": "text/x-python",
   "name": "python",
   "nbconvert_exporter": "python",
   "pygments_lexer": "ipython2",
   "version": "2.7.11"
  }
 },
 "nbformat": 4,
 "nbformat_minor": 0
}
