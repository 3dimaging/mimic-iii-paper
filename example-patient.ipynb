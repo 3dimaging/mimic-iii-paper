{
 "cells": [
  {
   "cell_type": "markdown",
   "metadata": {},
   "source": [
    "# Plot example data for a single patient"
   ]
  },
  {
   "cell_type": "code",
   "execution_count": 207,
   "metadata": {
    "collapsed": true
   },
   "outputs": [],
   "source": [
    "# Import libraries\n",
    "import numpy as np\n",
    "import pandas as pd\n",
    "import matplotlib.pyplot as plt\n",
    "import psycopg2\n",
    "%matplotlib inline"
   ]
  },
  {
   "cell_type": "code",
   "execution_count": 208,
   "metadata": {
    "collapsed": false
   },
   "outputs": [],
   "source": [
    "# Config\n",
    "sqluser = 'postgres'\n",
    "dbname = 'mimic'\n",
    "schema_name = 'mimiciii'"
   ]
  },
  {
   "cell_type": "code",
   "execution_count": 209,
   "metadata": {
    "collapsed": true
   },
   "outputs": [],
   "source": [
    "# Connect to MIMIC\n",
    "con = psycopg2.connect(dbname=dbname, user=sqluser)\n",
    "cur = con.cursor()\n",
    "cur.execute('SET search_path to ' + schema_name)\n",
    "# cur.close()\n",
    "# con.close()"
   ]
  },
  {
   "cell_type": "code",
   "execution_count": 210,
   "metadata": {
    "collapsed": true
   },
   "outputs": [],
   "source": [
    "# Select a single ICU stay\n",
    "icustay_id = 217082"
   ]
  },
  {
   "cell_type": "code",
   "execution_count": 211,
   "metadata": {
    "collapsed": false
   },
   "outputs": [],
   "source": [
    "# Load admissions\n",
    "query = \"\"\"\n",
    "SELECT ad.subject_id\n",
    "  , ad.hadm_id\n",
    "  , ad.admission_type\n",
    "  , ad.diagnosis\n",
    "  , ic.icustay_id\n",
    "  , ic.first_careunit\n",
    "  , ic.last_careunit\n",
    "  , ic.intime as icu_intime\n",
    "  , ad.hospital_expire_flag\n",
    "  , pa.expire_flag\n",
    "FROM admissions ad\n",
    "INNER JOIN icustays ic\n",
    "ON ad.subject_id = ic.subject_id\n",
    "INNER JOIN patients pa\n",
    "ON ad.subject_id = pa.subject_id\n",
    "WHERE ic.icustay_id = \"\"\" + str(icustay_id) + \"\"\" \n",
    "ORDER BY ic.intime\n",
    "\"\"\"\n",
    "\n",
    "admissions = pd.read_sql_query(query,con)"
   ]
  },
  {
   "cell_type": "code",
   "execution_count": 212,
   "metadata": {
    "collapsed": false
   },
   "outputs": [
    {
     "data": {
      "text/html": [
       "<div>\n",
       "<table border=\"1\" class=\"dataframe\">\n",
       "  <thead>\n",
       "    <tr style=\"text-align: right;\">\n",
       "      <th></th>\n",
       "      <th>subject_id</th>\n",
       "      <th>hadm_id</th>\n",
       "      <th>admission_type</th>\n",
       "      <th>diagnosis</th>\n",
       "      <th>icustay_id</th>\n",
       "      <th>first_careunit</th>\n",
       "      <th>last_careunit</th>\n",
       "      <th>icu_intime</th>\n",
       "      <th>hospital_expire_flag</th>\n",
       "      <th>expire_flag</th>\n",
       "    </tr>\n",
       "  </thead>\n",
       "  <tbody>\n",
       "    <tr>\n",
       "      <th>0</th>\n",
       "      <td>54247</td>\n",
       "      <td>171612</td>\n",
       "      <td>EMERGENCY</td>\n",
       "      <td>CORONARY ARTERY DISEASE\\CATH</td>\n",
       "      <td>217082</td>\n",
       "      <td>CSRU</td>\n",
       "      <td>CSRU</td>\n",
       "      <td>2121-06-11 11:29:12</td>\n",
       "      <td>0</td>\n",
       "      <td>1</td>\n",
       "    </tr>\n",
       "    <tr>\n",
       "      <th>1</th>\n",
       "      <td>54247</td>\n",
       "      <td>172679</td>\n",
       "      <td>EMERGENCY</td>\n",
       "      <td>TRACHEAL BLEEDING</td>\n",
       "      <td>217082</td>\n",
       "      <td>CSRU</td>\n",
       "      <td>CSRU</td>\n",
       "      <td>2121-06-11 11:29:12</td>\n",
       "      <td>0</td>\n",
       "      <td>1</td>\n",
       "    </tr>\n",
       "    <tr>\n",
       "      <th>2</th>\n",
       "      <td>54247</td>\n",
       "      <td>169804</td>\n",
       "      <td>EMERGENCY</td>\n",
       "      <td>SEPSIS</td>\n",
       "      <td>217082</td>\n",
       "      <td>CSRU</td>\n",
       "      <td>CSRU</td>\n",
       "      <td>2121-06-11 11:29:12</td>\n",
       "      <td>1</td>\n",
       "      <td>1</td>\n",
       "    </tr>\n",
       "  </tbody>\n",
       "</table>\n",
       "</div>"
      ],
      "text/plain": [
       "   subject_id  hadm_id admission_type                     diagnosis  \\\n",
       "0       54247   171612      EMERGENCY  CORONARY ARTERY DISEASE\\CATH   \n",
       "1       54247   172679      EMERGENCY             TRACHEAL BLEEDING   \n",
       "2       54247   169804      EMERGENCY                        SEPSIS   \n",
       "\n",
       "   icustay_id first_careunit last_careunit          icu_intime  \\\n",
       "0      217082           CSRU          CSRU 2121-06-11 11:29:12   \n",
       "1      217082           CSRU          CSRU 2121-06-11 11:29:12   \n",
       "2      217082           CSRU          CSRU 2121-06-11 11:29:12   \n",
       "\n",
       "   hospital_expire_flag  expire_flag  \n",
       "0                     0            1  \n",
       "1                     0            1  \n",
       "2                     1            1  "
      ]
     },
     "execution_count": 212,
     "metadata": {},
     "output_type": "execute_result"
    }
   ],
   "source": [
    "# First few rows of admissions\n",
    "admissions.head()"
   ]
  },
  {
   "cell_type": "code",
   "execution_count": 213,
   "metadata": {
    "collapsed": false
   },
   "outputs": [],
   "source": [
    "# Load chartevents\n",
    "query = \"\"\"\n",
    "SELECT ce.icustay_id\n",
    "  , ce.charttime\n",
    "  , ce.charttime - ie.intime AS icutime\n",
    "  , di.label\n",
    "  , ce.value\n",
    "  , ce.valuenum\n",
    "  , ce.valueuom\n",
    "FROM chartevents ce\n",
    "INNER join d_items di\n",
    "ON ce.itemid = di.itemid\n",
    "INNER join icustays ie\n",
    "ON ce.icustay_id = ie.icustay_id\n",
    "WHERE ce.icustay_id = \"\"\" + str(icustay_id) + \"\"\"\n",
    "AND error != 1\n",
    "ORDER BY ce.charttime\n",
    "\"\"\"\n",
    "\n",
    "charts = pd.read_sql_query(query,con)"
   ]
  },
  {
   "cell_type": "code",
   "execution_count": 214,
   "metadata": {
    "collapsed": false
   },
   "outputs": [
    {
     "data": {
      "text/html": [
       "<div>\n",
       "<table border=\"1\" class=\"dataframe\">\n",
       "  <thead>\n",
       "    <tr style=\"text-align: right;\">\n",
       "      <th></th>\n",
       "      <th>icustay_id</th>\n",
       "      <th>charttime</th>\n",
       "      <th>icutime</th>\n",
       "      <th>label</th>\n",
       "      <th>value</th>\n",
       "      <th>valuenum</th>\n",
       "      <th>valueuom</th>\n",
       "    </tr>\n",
       "  </thead>\n",
       "  <tbody>\n",
       "    <tr>\n",
       "      <th>0</th>\n",
       "      <td>217082</td>\n",
       "      <td>2121-06-11 11:49:00</td>\n",
       "      <td>00:19:48</td>\n",
       "      <td>Hematocrit (whole blood - calc)</td>\n",
       "      <td>33</td>\n",
       "      <td>33.00</td>\n",
       "      <td>%</td>\n",
       "    </tr>\n",
       "    <tr>\n",
       "      <th>1</th>\n",
       "      <td>217082</td>\n",
       "      <td>2121-06-11 11:49:00</td>\n",
       "      <td>00:19:48</td>\n",
       "      <td>Glucose (whole blood)</td>\n",
       "      <td>181</td>\n",
       "      <td>181.00</td>\n",
       "      <td>mg/dL</td>\n",
       "    </tr>\n",
       "    <tr>\n",
       "      <th>2</th>\n",
       "      <td>217082</td>\n",
       "      <td>2121-06-11 11:49:00</td>\n",
       "      <td>00:19:48</td>\n",
       "      <td>Arterial O2 pressure</td>\n",
       "      <td>304</td>\n",
       "      <td>304.00</td>\n",
       "      <td>mmHg</td>\n",
       "    </tr>\n",
       "    <tr>\n",
       "      <th>3</th>\n",
       "      <td>217082</td>\n",
       "      <td>2121-06-11 11:49:00</td>\n",
       "      <td>00:19:48</td>\n",
       "      <td>Arterial CO2 Pressure</td>\n",
       "      <td>44</td>\n",
       "      <td>44.00</td>\n",
       "      <td>mmHg</td>\n",
       "    </tr>\n",
       "    <tr>\n",
       "      <th>4</th>\n",
       "      <td>217082</td>\n",
       "      <td>2121-06-11 11:49:00</td>\n",
       "      <td>00:19:48</td>\n",
       "      <td>PH (Arterial)</td>\n",
       "      <td>7.42</td>\n",
       "      <td>7.42</td>\n",
       "      <td>units</td>\n",
       "    </tr>\n",
       "  </tbody>\n",
       "</table>\n",
       "</div>"
      ],
      "text/plain": [
       "   icustay_id           charttime  icutime                            label  \\\n",
       "0      217082 2121-06-11 11:49:00 00:19:48  Hematocrit (whole blood - calc)   \n",
       "1      217082 2121-06-11 11:49:00 00:19:48            Glucose (whole blood)   \n",
       "2      217082 2121-06-11 11:49:00 00:19:48             Arterial O2 pressure   \n",
       "3      217082 2121-06-11 11:49:00 00:19:48            Arterial CO2 Pressure   \n",
       "4      217082 2121-06-11 11:49:00 00:19:48                    PH (Arterial)   \n",
       "\n",
       "  value  valuenum valueuom  \n",
       "0    33     33.00        %  \n",
       "1   181    181.00    mg/dL  \n",
       "2   304    304.00     mmHg  \n",
       "3    44     44.00     mmHg  \n",
       "4  7.42      7.42    units  "
      ]
     },
     "execution_count": 214,
     "metadata": {},
     "output_type": "execute_result"
    }
   ],
   "source": [
    "# First few rows of charts\n",
    "charts.head()"
   ]
  },
  {
   "cell_type": "code",
   "execution_count": 215,
   "metadata": {
    "collapsed": false
   },
   "outputs": [],
   "source": [
    "# Load outputevents\n",
    "query = \"\"\"\n",
    "SELECT oe.icustay_id\n",
    "  , oe.charttime\n",
    "  , oe.charttime - ie.intime AS icutime\n",
    "  , di.label\n",
    "  , oe.value\n",
    "  , oe.valueuom\n",
    "FROM outputevents oe \n",
    "INNER JOIN icustays ie\n",
    "  ON oe.icustay_id = ie.icustay_id\n",
    "INNER JOIN d_items di\n",
    "  ON oe.itemid = di.itemid\n",
    "WHERE oe.icustay_id = \"\"\" + str(icustay_id) + \"\"\"\n",
    "ORDER BY oe.charttime\n",
    "\"\"\"\n",
    "\n",
    "outputs = pd.read_sql_query(query,con)"
   ]
  },
  {
   "cell_type": "code",
   "execution_count": 216,
   "metadata": {
    "collapsed": false
   },
   "outputs": [
    {
     "data": {
      "text/html": [
       "<div>\n",
       "<table border=\"1\" class=\"dataframe\">\n",
       "  <thead>\n",
       "    <tr style=\"text-align: right;\">\n",
       "      <th></th>\n",
       "      <th>icustay_id</th>\n",
       "      <th>charttime</th>\n",
       "      <th>icutime</th>\n",
       "      <th>label</th>\n",
       "      <th>value</th>\n",
       "      <th>valueuom</th>\n",
       "    </tr>\n",
       "  </thead>\n",
       "  <tbody>\n",
       "    <tr>\n",
       "      <th>0</th>\n",
       "      <td>217082</td>\n",
       "      <td>2121-06-11 19:09:00</td>\n",
       "      <td>07:39:48</td>\n",
       "      <td>Chest Tube #1</td>\n",
       "      <td>40</td>\n",
       "      <td>mL</td>\n",
       "    </tr>\n",
       "    <tr>\n",
       "      <th>1</th>\n",
       "      <td>217082</td>\n",
       "      <td>2121-06-11 19:09:00</td>\n",
       "      <td>07:39:48</td>\n",
       "      <td>Foley</td>\n",
       "      <td>40</td>\n",
       "      <td>mL</td>\n",
       "    </tr>\n",
       "    <tr>\n",
       "      <th>2</th>\n",
       "      <td>217082</td>\n",
       "      <td>2121-06-11 19:09:00</td>\n",
       "      <td>07:39:48</td>\n",
       "      <td>Mediastinal</td>\n",
       "      <td>90</td>\n",
       "      <td>mL</td>\n",
       "    </tr>\n",
       "    <tr>\n",
       "      <th>3</th>\n",
       "      <td>217082</td>\n",
       "      <td>2121-06-11 20:00:00</td>\n",
       "      <td>08:30:48</td>\n",
       "      <td>Chest Tube #1</td>\n",
       "      <td>0</td>\n",
       "      <td>mL</td>\n",
       "    </tr>\n",
       "    <tr>\n",
       "      <th>4</th>\n",
       "      <td>217082</td>\n",
       "      <td>2121-06-11 20:00:00</td>\n",
       "      <td>08:30:48</td>\n",
       "      <td>Mediastinal</td>\n",
       "      <td>90</td>\n",
       "      <td>mL</td>\n",
       "    </tr>\n",
       "  </tbody>\n",
       "</table>\n",
       "</div>"
      ],
      "text/plain": [
       "   icustay_id           charttime  icutime          label  value valueuom\n",
       "0      217082 2121-06-11 19:09:00 07:39:48  Chest Tube #1     40       mL\n",
       "1      217082 2121-06-11 19:09:00 07:39:48          Foley     40       mL\n",
       "2      217082 2121-06-11 19:09:00 07:39:48    Mediastinal     90       mL\n",
       "3      217082 2121-06-11 20:00:00 08:30:48  Chest Tube #1      0       mL\n",
       "4      217082 2121-06-11 20:00:00 08:30:48    Mediastinal     90       mL"
      ]
     },
     "execution_count": 216,
     "metadata": {},
     "output_type": "execute_result"
    }
   ],
   "source": [
    "# First few rows of outputs\n",
    "outputs.head()"
   ]
  },
  {
   "cell_type": "code",
   "execution_count": 217,
   "metadata": {
    "collapsed": false
   },
   "outputs": [],
   "source": [
    "# Load inputevents\n",
    "query = \"\"\"\n",
    "SELECT inp.icustay_id\n",
    "  , inp.starttime\n",
    "  , inp.endtime\n",
    "  , inp.starttime - ie.intime AS icustarttime\n",
    "  , inp.endtime - ie.intime AS icuendtime\n",
    "  , di.label\n",
    "  , inp.amount\n",
    "  , inp.amountuom\n",
    "  , inp.rate\n",
    "  , inp.rateuom\n",
    "FROM inputevents_mv inp \n",
    "INNER join icustays ie\n",
    "  ON inp.icustay_id = ie.icustay_id\n",
    "INNER join d_items di\n",
    "  ON inp.itemid = di.itemid\n",
    "WHERE inp.icustay_id = \"\"\" + str(icustay_id) + \"\"\"\n",
    "AND lower(inp.statusdescription) != 'rewritten'\n",
    "ORDER BY inp.starttime\n",
    "\"\"\"\n",
    "\n",
    "inputs = pd.read_sql_query(query,con)"
   ]
  },
  {
   "cell_type": "code",
   "execution_count": 218,
   "metadata": {
    "collapsed": false
   },
   "outputs": [
    {
     "data": {
      "text/html": [
       "<div>\n",
       "<table border=\"1\" class=\"dataframe\">\n",
       "  <thead>\n",
       "    <tr style=\"text-align: right;\">\n",
       "      <th></th>\n",
       "      <th>icustay_id</th>\n",
       "      <th>starttime</th>\n",
       "      <th>endtime</th>\n",
       "      <th>icustarttime</th>\n",
       "      <th>icuendtime</th>\n",
       "      <th>label</th>\n",
       "      <th>amount</th>\n",
       "      <th>amountuom</th>\n",
       "      <th>rate</th>\n",
       "      <th>rateuom</th>\n",
       "    </tr>\n",
       "  </thead>\n",
       "  <tbody>\n",
       "    <tr>\n",
       "      <th>0</th>\n",
       "      <td>217082</td>\n",
       "      <td>2121-06-11 18:36:00</td>\n",
       "      <td>2121-06-11 18:50:00</td>\n",
       "      <td>07:06:48</td>\n",
       "      <td>0 days 07:20:48</td>\n",
       "      <td>Norepinephrine</td>\n",
       "      <td>0.000271</td>\n",
       "      <td>mg</td>\n",
       "      <td>0.150159</td>\n",
       "      <td>mcg/kg/min</td>\n",
       "    </tr>\n",
       "    <tr>\n",
       "      <th>1</th>\n",
       "      <td>217082</td>\n",
       "      <td>2121-06-11 18:36:00</td>\n",
       "      <td>2121-06-11 18:50:00</td>\n",
       "      <td>07:06:48</td>\n",
       "      <td>0 days 07:20:48</td>\n",
       "      <td>NaCl 0.9%</td>\n",
       "      <td>8.474576</td>\n",
       "      <td>mL</td>\n",
       "      <td>36.319613</td>\n",
       "      <td>mL/hour</td>\n",
       "    </tr>\n",
       "    <tr>\n",
       "      <th>2</th>\n",
       "      <td>217082</td>\n",
       "      <td>2121-06-11 18:36:00</td>\n",
       "      <td>2121-06-11 19:51:00</td>\n",
       "      <td>07:06:48</td>\n",
       "      <td>0 days 08:21:48</td>\n",
       "      <td>Dextrose 5%</td>\n",
       "      <td>120.967740</td>\n",
       "      <td>mL</td>\n",
       "      <td>96.774192</td>\n",
       "      <td>mL/hour</td>\n",
       "    </tr>\n",
       "    <tr>\n",
       "      <th>3</th>\n",
       "      <td>217082</td>\n",
       "      <td>2121-06-11 18:36:00</td>\n",
       "      <td>2121-06-11 19:51:00</td>\n",
       "      <td>07:06:48</td>\n",
       "      <td>0 days 08:21:48</td>\n",
       "      <td>Epinephrine</td>\n",
       "      <td>0.000968</td>\n",
       "      <td>mg</td>\n",
       "      <td>0.100025</td>\n",
       "      <td>mcg/kg/min</td>\n",
       "    </tr>\n",
       "    <tr>\n",
       "      <th>4</th>\n",
       "      <td>217082</td>\n",
       "      <td>2121-06-11 18:37:00</td>\n",
       "      <td>2121-06-13 12:14:00</td>\n",
       "      <td>07:07:48</td>\n",
       "      <td>2 days 00:44:48</td>\n",
       "      <td>Vasopressin</td>\n",
       "      <td>100.000003</td>\n",
       "      <td>units</td>\n",
       "      <td>2.402884</td>\n",
       "      <td>units/hour</td>\n",
       "    </tr>\n",
       "  </tbody>\n",
       "</table>\n",
       "</div>"
      ],
      "text/plain": [
       "   icustay_id           starttime             endtime  icustarttime  \\\n",
       "0      217082 2121-06-11 18:36:00 2121-06-11 18:50:00      07:06:48   \n",
       "1      217082 2121-06-11 18:36:00 2121-06-11 18:50:00      07:06:48   \n",
       "2      217082 2121-06-11 18:36:00 2121-06-11 19:51:00      07:06:48   \n",
       "3      217082 2121-06-11 18:36:00 2121-06-11 19:51:00      07:06:48   \n",
       "4      217082 2121-06-11 18:37:00 2121-06-13 12:14:00      07:07:48   \n",
       "\n",
       "       icuendtime           label      amount amountuom       rate     rateuom  \n",
       "0 0 days 07:20:48  Norepinephrine    0.000271        mg   0.150159  mcg/kg/min  \n",
       "1 0 days 07:20:48       NaCl 0.9%    8.474576        mL  36.319613     mL/hour  \n",
       "2 0 days 08:21:48     Dextrose 5%  120.967740        mL  96.774192     mL/hour  \n",
       "3 0 days 08:21:48     Epinephrine    0.000968        mg   0.100025  mcg/kg/min  \n",
       "4 2 days 00:44:48     Vasopressin  100.000003     units   2.402884  units/hour  "
      ]
     },
     "execution_count": 218,
     "metadata": {},
     "output_type": "execute_result"
    }
   ],
   "source": [
    "# First few rows of inputs\n",
    "inputs.head()"
   ]
  },
  {
   "cell_type": "code",
   "execution_count": 219,
   "metadata": {
    "collapsed": false
   },
   "outputs": [],
   "source": [
    "# Load labevents\n",
    "query = \"\"\"\n",
    "SELECT le.subject_id\n",
    "  , ie.icustay_id\n",
    "  , le.charttime\n",
    "  , le.charttime - ie.intime AS icutime\n",
    "  , di.label\n",
    "  , le.value\n",
    "  , le.valuenum\n",
    "  , le.valueuom\n",
    "FROM labevents le\n",
    "INNER join icustays ie\n",
    "  ON le.subject_id = ie.subject_id\n",
    "  AND le.charttime >= ie.intime\n",
    "  AND le.charttime <= ie.outtime\n",
    "INNER JOIN d_labitems di\n",
    "  ON le.itemid = di.itemid\n",
    "WHERE ie.icustay_id = \"\"\" + str(icustay_id) + \"\"\"\n",
    "ORDER BY le.charttime\n",
    "\"\"\"\n",
    "\n",
    "labs = pd.read_sql_query(query,con)"
   ]
  },
  {
   "cell_type": "code",
   "execution_count": 220,
   "metadata": {
    "collapsed": false
   },
   "outputs": [
    {
     "data": {
      "text/html": [
       "<div>\n",
       "<table border=\"1\" class=\"dataframe\">\n",
       "  <thead>\n",
       "    <tr style=\"text-align: right;\">\n",
       "      <th></th>\n",
       "      <th>subject_id</th>\n",
       "      <th>icustay_id</th>\n",
       "      <th>charttime</th>\n",
       "      <th>icutime</th>\n",
       "      <th>label</th>\n",
       "      <th>value</th>\n",
       "      <th>valuenum</th>\n",
       "      <th>valueuom</th>\n",
       "    </tr>\n",
       "  </thead>\n",
       "  <tbody>\n",
       "    <tr>\n",
       "      <th>0</th>\n",
       "      <td>54247</td>\n",
       "      <td>217082</td>\n",
       "      <td>2121-06-11 11:49:00</td>\n",
       "      <td>00:19:48</td>\n",
       "      <td>GLUCOSE</td>\n",
       "      <td>181</td>\n",
       "      <td>181.0</td>\n",
       "      <td>mg/dL</td>\n",
       "    </tr>\n",
       "    <tr>\n",
       "      <th>1</th>\n",
       "      <td>54247</td>\n",
       "      <td>217082</td>\n",
       "      <td>2121-06-11 11:49:00</td>\n",
       "      <td>00:19:48</td>\n",
       "      <td>HEMATOCRIT, CALCULATED</td>\n",
       "      <td>33</td>\n",
       "      <td>33.0</td>\n",
       "      <td>%</td>\n",
       "    </tr>\n",
       "    <tr>\n",
       "      <th>2</th>\n",
       "      <td>54247</td>\n",
       "      <td>217082</td>\n",
       "      <td>2121-06-11 11:49:00</td>\n",
       "      <td>00:19:48</td>\n",
       "      <td>POTASSIUM, WHOLE BLOOD</td>\n",
       "      <td>5.0</td>\n",
       "      <td>5.0</td>\n",
       "      <td>mEq/L</td>\n",
       "    </tr>\n",
       "    <tr>\n",
       "      <th>3</th>\n",
       "      <td>54247</td>\n",
       "      <td>217082</td>\n",
       "      <td>2121-06-11 11:49:00</td>\n",
       "      <td>00:19:48</td>\n",
       "      <td>HEMOGLOBIN</td>\n",
       "      <td>11.1</td>\n",
       "      <td>11.1</td>\n",
       "      <td>g/dL</td>\n",
       "    </tr>\n",
       "    <tr>\n",
       "      <th>4</th>\n",
       "      <td>54247</td>\n",
       "      <td>217082</td>\n",
       "      <td>2121-06-11 11:49:00</td>\n",
       "      <td>00:19:48</td>\n",
       "      <td>PO2</td>\n",
       "      <td>304</td>\n",
       "      <td>304.0</td>\n",
       "      <td>mm Hg</td>\n",
       "    </tr>\n",
       "  </tbody>\n",
       "</table>\n",
       "</div>"
      ],
      "text/plain": [
       "   subject_id  icustay_id           charttime  icutime  \\\n",
       "0       54247      217082 2121-06-11 11:49:00 00:19:48   \n",
       "1       54247      217082 2121-06-11 11:49:00 00:19:48   \n",
       "2       54247      217082 2121-06-11 11:49:00 00:19:48   \n",
       "3       54247      217082 2121-06-11 11:49:00 00:19:48   \n",
       "4       54247      217082 2121-06-11 11:49:00 00:19:48   \n",
       "\n",
       "                    label value  valuenum valueuom  \n",
       "0                 GLUCOSE   181     181.0    mg/dL  \n",
       "1  HEMATOCRIT, CALCULATED    33      33.0        %  \n",
       "2  POTASSIUM, WHOLE BLOOD   5.0       5.0    mEq/L  \n",
       "3              HEMOGLOBIN  11.1      11.1     g/dL  \n",
       "4                     PO2   304     304.0    mm Hg  "
      ]
     },
     "execution_count": 220,
     "metadata": {},
     "output_type": "execute_result"
    }
   ],
   "source": [
    "# First few rows of labs\n",
    "labs.head()"
   ]
  },
  {
   "cell_type": "code",
   "execution_count": 221,
   "metadata": {
    "collapsed": false
   },
   "outputs": [],
   "source": [
    "# Snip data to first 24 hours\n",
    "charts = charts.loc[charts.icutime.dt.days<3]\n",
    "outputs = outputs.loc[outputs.icutime.dt.days<3]\n",
    "inputs = inputs.loc[inputs.icustarttime.dt.days<3]\n",
    "labs = labs.loc[labs.icutime.dt.days<3]"
   ]
  },
  {
   "cell_type": "code",
   "execution_count": 222,
   "metadata": {
    "collapsed": false
   },
   "outputs": [
    {
     "ename": "KeyError",
     "evalue": "'icustarttimehr'",
     "output_type": "error",
     "traceback": [
      "\u001b[0;31m---------------------------------------------------------------------------\u001b[0m",
      "\u001b[0;31mKeyError\u001b[0m                                  Traceback (most recent call last)",
      "\u001b[0;32m<ipython-input-222-28d8efb4ba4e>\u001b[0m in \u001b[0;36m<module>\u001b[0;34m()\u001b[0m\n\u001b[1;32m      2\u001b[0m \u001b[0mcharts\u001b[0m\u001b[0;34m[\u001b[0m\u001b[0;34m'icutimehr'\u001b[0m\u001b[0;34m]\u001b[0m \u001b[0;34m=\u001b[0m \u001b[0;34m(\u001b[0m\u001b[0mcharts\u001b[0m\u001b[0;34m[\u001b[0m\u001b[0;34m'icutime'\u001b[0m\u001b[0;34m]\u001b[0m\u001b[0;34m.\u001b[0m\u001b[0mdt\u001b[0m\u001b[0;34m.\u001b[0m\u001b[0mseconds\u001b[0m\u001b[0;34m/\u001b[0m\u001b[0;36m60\u001b[0m\u001b[0;34m/\u001b[0m\u001b[0;36m60\u001b[0m\u001b[0;34m)\u001b[0m\u001b[0;34m+\u001b[0m\u001b[0;34m(\u001b[0m\u001b[0mcharts\u001b[0m\u001b[0;34m[\u001b[0m\u001b[0;34m'icutime'\u001b[0m\u001b[0;34m]\u001b[0m\u001b[0;34m.\u001b[0m\u001b[0mdt\u001b[0m\u001b[0;34m.\u001b[0m\u001b[0mdays\u001b[0m\u001b[0;34m*\u001b[0m\u001b[0;36m24\u001b[0m\u001b[0;34m)\u001b[0m\u001b[0;34m\u001b[0m\u001b[0m\n\u001b[1;32m      3\u001b[0m \u001b[0moutputs\u001b[0m\u001b[0;34m[\u001b[0m\u001b[0;34m'icutimehr'\u001b[0m\u001b[0;34m]\u001b[0m \u001b[0;34m=\u001b[0m \u001b[0;34m(\u001b[0m\u001b[0moutputs\u001b[0m\u001b[0;34m[\u001b[0m\u001b[0;34m'icutime'\u001b[0m\u001b[0;34m]\u001b[0m\u001b[0;34m.\u001b[0m\u001b[0mdt\u001b[0m\u001b[0;34m.\u001b[0m\u001b[0mseconds\u001b[0m\u001b[0;34m/\u001b[0m\u001b[0;36m60\u001b[0m\u001b[0;34m/\u001b[0m\u001b[0;36m60\u001b[0m\u001b[0;34m)\u001b[0m\u001b[0;34m+\u001b[0m\u001b[0;34m(\u001b[0m\u001b[0mcharts\u001b[0m\u001b[0;34m[\u001b[0m\u001b[0;34m'icutime'\u001b[0m\u001b[0;34m]\u001b[0m\u001b[0;34m.\u001b[0m\u001b[0mdt\u001b[0m\u001b[0;34m.\u001b[0m\u001b[0mdays\u001b[0m\u001b[0;34m*\u001b[0m\u001b[0;36m24\u001b[0m\u001b[0;34m)\u001b[0m\u001b[0;34m\u001b[0m\u001b[0m\n\u001b[0;32m----> 4\u001b[0;31m \u001b[0minputs\u001b[0m\u001b[0;34m[\u001b[0m\u001b[0;34m'icustarttimehr'\u001b[0m\u001b[0;34m]\u001b[0m \u001b[0;34m=\u001b[0m \u001b[0;34m(\u001b[0m\u001b[0minputs\u001b[0m\u001b[0;34m[\u001b[0m\u001b[0;34m'icustarttime'\u001b[0m\u001b[0;34m]\u001b[0m\u001b[0;34m.\u001b[0m\u001b[0mdt\u001b[0m\u001b[0;34m.\u001b[0m\u001b[0mseconds\u001b[0m\u001b[0;34m/\u001b[0m\u001b[0;36m60\u001b[0m\u001b[0;34m/\u001b[0m\u001b[0;36m60\u001b[0m\u001b[0;34m)\u001b[0m\u001b[0;34m+\u001b[0m\u001b[0;34m(\u001b[0m\u001b[0mcharts\u001b[0m\u001b[0;34m[\u001b[0m\u001b[0;34m'icustarttimehr'\u001b[0m\u001b[0;34m]\u001b[0m\u001b[0;34m.\u001b[0m\u001b[0mdt\u001b[0m\u001b[0;34m.\u001b[0m\u001b[0mdays\u001b[0m\u001b[0;34m*\u001b[0m\u001b[0;36m24\u001b[0m\u001b[0;34m)\u001b[0m\u001b[0;34m\u001b[0m\u001b[0m\n\u001b[0m\u001b[1;32m      5\u001b[0m \u001b[0minputs\u001b[0m\u001b[0;34m[\u001b[0m\u001b[0;34m'icuendtimehr'\u001b[0m\u001b[0;34m]\u001b[0m \u001b[0;34m=\u001b[0m \u001b[0;34m(\u001b[0m\u001b[0minputs\u001b[0m\u001b[0;34m[\u001b[0m\u001b[0;34m'icuendtime'\u001b[0m\u001b[0;34m]\u001b[0m\u001b[0;34m.\u001b[0m\u001b[0mdt\u001b[0m\u001b[0;34m.\u001b[0m\u001b[0mseconds\u001b[0m\u001b[0;34m/\u001b[0m\u001b[0;36m60\u001b[0m\u001b[0;34m/\u001b[0m\u001b[0;36m60\u001b[0m\u001b[0;34m)\u001b[0m\u001b[0;34m+\u001b[0m\u001b[0;34m(\u001b[0m\u001b[0mcharts\u001b[0m\u001b[0;34m[\u001b[0m\u001b[0;34m'icuendtime'\u001b[0m\u001b[0;34m]\u001b[0m\u001b[0;34m.\u001b[0m\u001b[0mdt\u001b[0m\u001b[0;34m.\u001b[0m\u001b[0mdays\u001b[0m\u001b[0;34m*\u001b[0m\u001b[0;36m24\u001b[0m\u001b[0;34m)\u001b[0m\u001b[0;34m\u001b[0m\u001b[0m\n\u001b[1;32m      6\u001b[0m \u001b[0mlabs\u001b[0m\u001b[0;34m[\u001b[0m\u001b[0;34m'icutimehr'\u001b[0m\u001b[0;34m]\u001b[0m \u001b[0;34m=\u001b[0m \u001b[0;34m(\u001b[0m\u001b[0mlabs\u001b[0m\u001b[0;34m[\u001b[0m\u001b[0;34m'icutime'\u001b[0m\u001b[0;34m]\u001b[0m\u001b[0;34m.\u001b[0m\u001b[0mdt\u001b[0m\u001b[0;34m.\u001b[0m\u001b[0mseconds\u001b[0m\u001b[0;34m/\u001b[0m\u001b[0;36m60\u001b[0m\u001b[0;34m/\u001b[0m\u001b[0;36m60\u001b[0m\u001b[0;34m)\u001b[0m\u001b[0;34m+\u001b[0m\u001b[0;34m(\u001b[0m\u001b[0mcharts\u001b[0m\u001b[0;34m[\u001b[0m\u001b[0;34m'icutime'\u001b[0m\u001b[0;34m]\u001b[0m\u001b[0;34m.\u001b[0m\u001b[0mdt\u001b[0m\u001b[0;34m.\u001b[0m\u001b[0mdays\u001b[0m\u001b[0;34m*\u001b[0m\u001b[0;36m24\u001b[0m\u001b[0;34m)\u001b[0m\u001b[0;34m\u001b[0m\u001b[0m\n",
      "\u001b[0;32m/usr/local/lib/python2.7/site-packages/pandas/core/frame.pyc\u001b[0m in \u001b[0;36m__getitem__\u001b[0;34m(self, key)\u001b[0m\n\u001b[1;32m   1967\u001b[0m             \u001b[0;32mreturn\u001b[0m \u001b[0mself\u001b[0m\u001b[0;34m.\u001b[0m\u001b[0m_getitem_multilevel\u001b[0m\u001b[0;34m(\u001b[0m\u001b[0mkey\u001b[0m\u001b[0;34m)\u001b[0m\u001b[0;34m\u001b[0m\u001b[0m\n\u001b[1;32m   1968\u001b[0m         \u001b[0;32melse\u001b[0m\u001b[0;34m:\u001b[0m\u001b[0;34m\u001b[0m\u001b[0m\n\u001b[0;32m-> 1969\u001b[0;31m             \u001b[0;32mreturn\u001b[0m \u001b[0mself\u001b[0m\u001b[0;34m.\u001b[0m\u001b[0m_getitem_column\u001b[0m\u001b[0;34m(\u001b[0m\u001b[0mkey\u001b[0m\u001b[0;34m)\u001b[0m\u001b[0;34m\u001b[0m\u001b[0m\n\u001b[0m\u001b[1;32m   1970\u001b[0m \u001b[0;34m\u001b[0m\u001b[0m\n\u001b[1;32m   1971\u001b[0m     \u001b[0;32mdef\u001b[0m \u001b[0m_getitem_column\u001b[0m\u001b[0;34m(\u001b[0m\u001b[0mself\u001b[0m\u001b[0;34m,\u001b[0m \u001b[0mkey\u001b[0m\u001b[0;34m)\u001b[0m\u001b[0;34m:\u001b[0m\u001b[0;34m\u001b[0m\u001b[0m\n",
      "\u001b[0;32m/usr/local/lib/python2.7/site-packages/pandas/core/frame.pyc\u001b[0m in \u001b[0;36m_getitem_column\u001b[0;34m(self, key)\u001b[0m\n\u001b[1;32m   1974\u001b[0m         \u001b[0;31m# get column\u001b[0m\u001b[0;34m\u001b[0m\u001b[0;34m\u001b[0m\u001b[0m\n\u001b[1;32m   1975\u001b[0m         \u001b[0;32mif\u001b[0m \u001b[0mself\u001b[0m\u001b[0;34m.\u001b[0m\u001b[0mcolumns\u001b[0m\u001b[0;34m.\u001b[0m\u001b[0mis_unique\u001b[0m\u001b[0;34m:\u001b[0m\u001b[0;34m\u001b[0m\u001b[0m\n\u001b[0;32m-> 1976\u001b[0;31m             \u001b[0;32mreturn\u001b[0m \u001b[0mself\u001b[0m\u001b[0;34m.\u001b[0m\u001b[0m_get_item_cache\u001b[0m\u001b[0;34m(\u001b[0m\u001b[0mkey\u001b[0m\u001b[0;34m)\u001b[0m\u001b[0;34m\u001b[0m\u001b[0m\n\u001b[0m\u001b[1;32m   1977\u001b[0m \u001b[0;34m\u001b[0m\u001b[0m\n\u001b[1;32m   1978\u001b[0m         \u001b[0;31m# duplicate columns & possible reduce dimensionality\u001b[0m\u001b[0;34m\u001b[0m\u001b[0;34m\u001b[0m\u001b[0m\n",
      "\u001b[0;32m/usr/local/lib/python2.7/site-packages/pandas/core/generic.pyc\u001b[0m in \u001b[0;36m_get_item_cache\u001b[0;34m(self, item)\u001b[0m\n\u001b[1;32m   1089\u001b[0m         \u001b[0mres\u001b[0m \u001b[0;34m=\u001b[0m \u001b[0mcache\u001b[0m\u001b[0;34m.\u001b[0m\u001b[0mget\u001b[0m\u001b[0;34m(\u001b[0m\u001b[0mitem\u001b[0m\u001b[0;34m)\u001b[0m\u001b[0;34m\u001b[0m\u001b[0m\n\u001b[1;32m   1090\u001b[0m         \u001b[0;32mif\u001b[0m \u001b[0mres\u001b[0m \u001b[0;32mis\u001b[0m \u001b[0mNone\u001b[0m\u001b[0;34m:\u001b[0m\u001b[0;34m\u001b[0m\u001b[0m\n\u001b[0;32m-> 1091\u001b[0;31m             \u001b[0mvalues\u001b[0m \u001b[0;34m=\u001b[0m \u001b[0mself\u001b[0m\u001b[0;34m.\u001b[0m\u001b[0m_data\u001b[0m\u001b[0;34m.\u001b[0m\u001b[0mget\u001b[0m\u001b[0;34m(\u001b[0m\u001b[0mitem\u001b[0m\u001b[0;34m)\u001b[0m\u001b[0;34m\u001b[0m\u001b[0m\n\u001b[0m\u001b[1;32m   1092\u001b[0m             \u001b[0mres\u001b[0m \u001b[0;34m=\u001b[0m \u001b[0mself\u001b[0m\u001b[0;34m.\u001b[0m\u001b[0m_box_item_values\u001b[0m\u001b[0;34m(\u001b[0m\u001b[0mitem\u001b[0m\u001b[0;34m,\u001b[0m \u001b[0mvalues\u001b[0m\u001b[0;34m)\u001b[0m\u001b[0;34m\u001b[0m\u001b[0m\n\u001b[1;32m   1093\u001b[0m             \u001b[0mcache\u001b[0m\u001b[0;34m[\u001b[0m\u001b[0mitem\u001b[0m\u001b[0;34m]\u001b[0m \u001b[0;34m=\u001b[0m \u001b[0mres\u001b[0m\u001b[0;34m\u001b[0m\u001b[0m\n",
      "\u001b[0;32m/usr/local/lib/python2.7/site-packages/pandas/core/internals.pyc\u001b[0m in \u001b[0;36mget\u001b[0;34m(self, item, fastpath)\u001b[0m\n\u001b[1;32m   3209\u001b[0m \u001b[0;34m\u001b[0m\u001b[0m\n\u001b[1;32m   3210\u001b[0m             \u001b[0;32mif\u001b[0m \u001b[0;32mnot\u001b[0m \u001b[0misnull\u001b[0m\u001b[0;34m(\u001b[0m\u001b[0mitem\u001b[0m\u001b[0;34m)\u001b[0m\u001b[0;34m:\u001b[0m\u001b[0;34m\u001b[0m\u001b[0m\n\u001b[0;32m-> 3211\u001b[0;31m                 \u001b[0mloc\u001b[0m \u001b[0;34m=\u001b[0m \u001b[0mself\u001b[0m\u001b[0;34m.\u001b[0m\u001b[0mitems\u001b[0m\u001b[0;34m.\u001b[0m\u001b[0mget_loc\u001b[0m\u001b[0;34m(\u001b[0m\u001b[0mitem\u001b[0m\u001b[0;34m)\u001b[0m\u001b[0;34m\u001b[0m\u001b[0m\n\u001b[0m\u001b[1;32m   3212\u001b[0m             \u001b[0;32melse\u001b[0m\u001b[0;34m:\u001b[0m\u001b[0;34m\u001b[0m\u001b[0m\n\u001b[1;32m   3213\u001b[0m                 \u001b[0mindexer\u001b[0m \u001b[0;34m=\u001b[0m \u001b[0mnp\u001b[0m\u001b[0;34m.\u001b[0m\u001b[0marange\u001b[0m\u001b[0;34m(\u001b[0m\u001b[0mlen\u001b[0m\u001b[0;34m(\u001b[0m\u001b[0mself\u001b[0m\u001b[0;34m.\u001b[0m\u001b[0mitems\u001b[0m\u001b[0;34m)\u001b[0m\u001b[0;34m)\u001b[0m\u001b[0;34m[\u001b[0m\u001b[0misnull\u001b[0m\u001b[0;34m(\u001b[0m\u001b[0mself\u001b[0m\u001b[0;34m.\u001b[0m\u001b[0mitems\u001b[0m\u001b[0;34m)\u001b[0m\u001b[0;34m]\u001b[0m\u001b[0;34m\u001b[0m\u001b[0m\n",
      "\u001b[0;32m/usr/local/lib/python2.7/site-packages/pandas/core/index.pyc\u001b[0m in \u001b[0;36mget_loc\u001b[0;34m(self, key, method, tolerance)\u001b[0m\n\u001b[1;32m   1757\u001b[0m                                  'backfill or nearest lookups')\n\u001b[1;32m   1758\u001b[0m             \u001b[0mkey\u001b[0m \u001b[0;34m=\u001b[0m \u001b[0m_values_from_object\u001b[0m\u001b[0;34m(\u001b[0m\u001b[0mkey\u001b[0m\u001b[0;34m)\u001b[0m\u001b[0;34m\u001b[0m\u001b[0m\n\u001b[0;32m-> 1759\u001b[0;31m             \u001b[0;32mreturn\u001b[0m \u001b[0mself\u001b[0m\u001b[0;34m.\u001b[0m\u001b[0m_engine\u001b[0m\u001b[0;34m.\u001b[0m\u001b[0mget_loc\u001b[0m\u001b[0;34m(\u001b[0m\u001b[0mkey\u001b[0m\u001b[0;34m)\u001b[0m\u001b[0;34m\u001b[0m\u001b[0m\n\u001b[0m\u001b[1;32m   1760\u001b[0m \u001b[0;34m\u001b[0m\u001b[0m\n\u001b[1;32m   1761\u001b[0m         indexer = self.get_indexer([key], method=method,\n",
      "\u001b[0;32mpandas/index.pyx\u001b[0m in \u001b[0;36mpandas.index.IndexEngine.get_loc (pandas/index.c:3979)\u001b[0;34m()\u001b[0m\n",
      "\u001b[0;32mpandas/index.pyx\u001b[0m in \u001b[0;36mpandas.index.IndexEngine.get_loc (pandas/index.c:3843)\u001b[0;34m()\u001b[0m\n",
      "\u001b[0;32mpandas/hashtable.pyx\u001b[0m in \u001b[0;36mpandas.hashtable.PyObjectHashTable.get_item (pandas/hashtable.c:12265)\u001b[0;34m()\u001b[0m\n",
      "\u001b[0;32mpandas/hashtable.pyx\u001b[0m in \u001b[0;36mpandas.hashtable.PyObjectHashTable.get_item (pandas/hashtable.c:12216)\u001b[0;34m()\u001b[0m\n",
      "\u001b[0;31mKeyError\u001b[0m: 'icustarttimehr'"
     ]
    }
   ],
   "source": [
    "# Create column with minutes from ICU intime\n",
    "charts['icutimehr'] = (charts['icutime'].dt.seconds/60/60)+(charts['icutime'].dt.days*24)\n",
    "outputs['icutimehr'] = (outputs['icutime'].dt.seconds/60/60)+(charts['icutime'].dt.days*24)\n",
    "inputs['icustarttimehr'] = (inputs['icustarttime'].dt.seconds/60/60)+(charts['icustarttime'].dt.days*24)\n",
    "inputs['icuendtimehr'] = (inputs['icuendtime'].dt.seconds/60/60)+(charts['icuendtime'].dt.days*24)\n",
    "labs['icutimehr'] = (labs['icutime'].dt.seconds/60/60)+(charts['icutime'].dt.days*24)"
   ]
  },
  {
   "cell_type": "code",
   "execution_count": null,
   "metadata": {
    "collapsed": false
   },
   "outputs": [],
   "source": [
    "# What are the most commonly measured variables in charts?\n",
    "charts['label'].value_counts().head()"
   ]
  },
  {
   "cell_type": "code",
   "execution_count": null,
   "metadata": {
    "collapsed": false
   },
   "outputs": [],
   "source": [
    "# What are the most commonly measured variables in charts?\n",
    "outputs['label'].value_counts().head()"
   ]
  },
  {
   "cell_type": "code",
   "execution_count": null,
   "metadata": {
    "collapsed": false
   },
   "outputs": [],
   "source": [
    "# What are the most commonly measured variables in charts?\n",
    "inputs['label'].value_counts().head()"
   ]
  },
  {
   "cell_type": "code",
   "execution_count": null,
   "metadata": {
    "collapsed": false
   },
   "outputs": [],
   "source": [
    "# What are the most commonly measured variables in charts?\n",
    "labs['label'].value_counts().head()"
   ]
  },
  {
   "cell_type": "code",
   "execution_count": null,
   "metadata": {
    "collapsed": false,
    "scrolled": false
   },
   "outputs": [],
   "source": [
    "# Plot sample data over first 24 hours from admission to ICU\n",
    "# Credit: Randal Olson for styling (http://www.randalolson.com/2014/06/28/)\n",
    "\n",
    "# Prepare the size of the figure\n",
    "fig = plt.figure(figsize=(19, 15))\n",
    "plt.rcParams.update({'font.size': 22})\n",
    "\n",
    "# \"Tableau 20\" colors as RGB.   \n",
    "tableau20 = [(31, 119, 180), (174, 199, 232), (255, 127, 14), (255, 187, 120),    \n",
    "             (44, 160, 44), (152, 223, 138), (214, 39, 40), (255, 152, 150),    \n",
    "             (148, 103, 189), (197, 176, 213), (140, 86, 75), (196, 156, 148),    \n",
    "             (227, 119, 194), (247, 182, 210), (127, 127, 127), (199, 199, 199),    \n",
    "             (188, 189, 34), (219, 219, 141), (23, 190, 207), (158, 218, 229)]  \n",
    "  \n",
    "# Scale the RGB values to the [0, 1] range, which is the format matplotlib accepts.    \n",
    "for i in range(len(tableau20)):    \n",
    "    r, g, b = tableau20[i]    \n",
    "    tableau20[i] = (r / 255., g / 255., b / 255.)\n",
    "    \n",
    "# Remove the plot frame lines. \n",
    "ax = plt.subplot(111)    \n",
    "ax.spines[\"top\"].set_visible(False)    \n",
    "ax.spines[\"bottom\"].set_visible(True)    \n",
    "ax.spines[\"right\"].set_visible(False)    \n",
    "ax.spines[\"left\"].set_visible(True)    \n",
    "  \n",
    "# Ensure that the axis ticks only show up on the bottom and left of the plot.      \n",
    "ax.get_xaxis().tick_bottom()    \n",
    "ax.get_yaxis().tick_left()    \n",
    "\n",
    "# Plot a few vital signs\n",
    "plt.plot(charts.icutimehr[charts.label=='Heart Rate'], \n",
    "         charts.valuenum[charts.label=='Heart Rate'],\n",
    "         color=tableau20[1], lw=2.5,\n",
    "         marker='o', markersize=6, label='Heart rate')\n",
    "\n",
    "plt.plot(charts.icutimehr[charts.label=='Respiratory Rate'], \n",
    "         charts.valuenum[charts.label=='Respiratory Rate'],\n",
    "         color=tableau20[2], lw=2.5,\n",
    "         marker='o', markersize=6, label='Resp. rate')\n",
    "\n",
    "plt.plot(charts.icutimehr[charts.label=='Non Invasive Blood Pressure mean'], \n",
    "         charts.valuenum[charts.label=='Non Invasive Blood Pressure mean'],\n",
    "         color=tableau20[3], lw=2.5,\n",
    "         marker='o', markersize=6, label='BP mean')\n",
    "\n",
    "# plt.plot(charts.icutimehr[charts.label=='Non Invasive Blood Pressure systolic'], \n",
    "#          charts.valuenum[charts.label=='Non Invasive Blood Pressure systolic'],\n",
    "#          color=tableau20[3], lw=2.5, \n",
    "#          marker='o', markersize=6, label='BP sys.')\n",
    "\n",
    "# plt.plot(charts.icutimehr[charts.label=='Non Invasive Blood Pressure diastolic'], \n",
    "#          charts.valuenum[charts.label=='Non Invasive Blood Pressure diastolic'],\n",
    "#          color=tableau20[4], lw=2.5, \n",
    "#          marker='o', markersize=6, label='BP dias.')\n",
    "\n",
    "plt.plot(charts.icutimehr[charts.label=='Temperature Fahrenheit'], \n",
    "         (charts.valuenum[charts.label=='Temperature Fahrenheit']-32)/1.8,\n",
    "         color=tableau20[5], lw=2.5, \n",
    "         marker='o', markersize=6, label='Temp.')\n",
    "\n",
    "plt.plot(charts.icutimehr[charts.label=='O2 saturation pulseoxymetry'], \n",
    "         charts.valuenum[charts.label=='O2 saturation pulseoxymetry'],\n",
    "         color=tableau20[6], lw=2.5, \n",
    "         marker='o', markersize=6, label='O2 sat.')\n",
    "\n",
    "# Plot some laboratory values\n",
    "plt.plot(labs.icutimehr[labs.label=='HEMATOCRIT'], \n",
    "         labs.valuenum[labs.label=='HEMATOCRIT'], \n",
    "         color=tableau20[7], lw=2.5, \n",
    "         marker='o', markersize=6, label='Haematocrit')\n",
    "\n",
    "plt.plot(labs.icutimehr[labs.label=='HEMOGLOBIN'], \n",
    "         labs.valuenum[labs.label=='HEMOGLOBIN'], \n",
    "         color=tableau20[8], lw=2.5,\n",
    "         marker='o', markersize=6, label='Hemoglobin')\n",
    "\n",
    "# Plot some input/output events\n",
    "plt.plot(inputs.icustarttimehr[inputs.amountuom=='mL'], \n",
    "         inputs.amount[inputs.amountuom=='mL'].cumsum()/100, \n",
    "         color=tableau20[9], lw=2.5,\n",
    "         marker='o', markersize=6, label='Intake volume, dL')\n",
    "\n",
    "plt.plot(outputs.icutimehr, \n",
    "         outputs.value.cumsum()/100, \n",
    "         color=tableau20[10], lw=2.5,\n",
    "         marker='o', markersize=6, label='Output volume, dL')\n",
    "\n",
    "# Plot Glasgow Coma Scale measurements every hour or so\n",
    "# plt.text(-10,155,'GCS - Eye Opening',fontsize=14)\n",
    "for i, txt in enumerate(charts.value[charts.label=='GCS - Eye Opening'].values):\n",
    "    if np.mod(i,2)==0 and i < 65:\n",
    "        plt.annotate(txt, (charts.icutimehr[charts.label=='GCS - Eye Opening'].values[i],155),fontsize=15)\n",
    "\n",
    "# plt.text(-60,150,'GCS - Motor Response',fontsize=14)\n",
    "for i, txt in enumerate(charts.value[charts.label=='GCS - Motor Response'].values):\n",
    "    if np.mod(i,2)==0 and i < 65:\n",
    "        plt.annotate(txt, (charts.icutimehr[charts.label=='GCS - Motor Response'].values[i],150),fontsize=15)\n",
    "\n",
    "# plt.text(-60,145,'GCS - Verbal Response',fontsize=14)  \n",
    "for i, txt in enumerate(charts.value[charts.label=='GCS - Verbal Response'].values):\n",
    "    if np.mod(i,2)==0 and i < 65:\n",
    "        plt.annotate(txt, (charts.icutimehr[charts.label=='GCS - Verbal Response'].values[i],145),fontsize=15)\n",
    "\n",
    "plt.legend(loc=5,fontsize=18)\n",
    "plt.xlabel('Time from admission to ICU, hours', fontsize=22)\n",
    "plt.ylabel('Measurement, absolute value', fontsize=22)\n",
    "plt.ylim(0,160) \n",
    "\n",
    "# Save the figure\n",
    "# fig.savefig('examplepatient.pdf', bbox_inches='tight')"
   ]
  }
 ],
 "metadata": {
  "kernelspec": {
   "display_name": "Python 2",
   "language": "python",
   "name": "python2"
  },
  "language_info": {
   "codemirror_mode": {
    "name": "ipython",
    "version": 2
   },
   "file_extension": ".py",
   "mimetype": "text/x-python",
   "name": "python",
   "nbconvert_exporter": "python",
   "pygments_lexer": "ipython2",
   "version": "2.7.11"
  }
 },
 "nbformat": 4,
 "nbformat_minor": 0
}
