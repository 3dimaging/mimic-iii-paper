{
 "cells": [
  {
   "cell_type": "markdown",
   "metadata": {},
   "source": [
    "# Plot example data for a single patient"
   ]
  },
  {
   "cell_type": "code",
   "execution_count": null,
   "metadata": {
    "collapsed": true
   },
   "outputs": [],
   "source": [
    "# Import libraries\n",
    "import numpy as np\n",
    "import pandas as pd\n",
    "import matplotlib.pyplot as plt\n",
    "import psycopg2\n",
    "%matplotlib inline"
   ]
  },
  {
   "cell_type": "code",
   "execution_count": null,
   "metadata": {
    "collapsed": false
   },
   "outputs": [],
   "source": [
    "# Config\n",
    "sqluser = 'postgres'\n",
    "dbname = 'mimic'\n",
    "schema_name = 'mimiciii'"
   ]
  },
  {
   "cell_type": "code",
   "execution_count": null,
   "metadata": {
    "collapsed": true
   },
   "outputs": [],
   "source": [
    "# Connect to MIMIC\n",
    "con = psycopg2.connect(dbname=dbname, user=sqluser)\n",
    "cur = con.cursor()\n",
    "cur.execute('SET search_path to ' + schema_name)\n",
    "# cur.close()\n",
    "# con.close()"
   ]
  },
  {
   "cell_type": "code",
   "execution_count": null,
   "metadata": {
    "collapsed": true
   },
   "outputs": [],
   "source": [
    "# Select a single ICU stay\n",
    "icustay_id = 293325"
   ]
  },
  {
   "cell_type": "code",
   "execution_count": null,
   "metadata": {
    "collapsed": false
   },
   "outputs": [],
   "source": [
    "# Load admissions\n",
    "query = \"\"\"\n",
    "SELECT ad.subject_id\n",
    "  , ad.hadm_id\n",
    "  , ad.admission_type\n",
    "  , ad.diagnosis\n",
    "  , ic.icustay_id\n",
    "  , ic.first_careunit\n",
    "  , ic.last_careunit\n",
    "  , ic.intime as icu_intime\n",
    "  , ad.hospital_expire_flag\n",
    "  , pa.expire_flag\n",
    "FROM admissions ad\n",
    "INNER JOIN icustays ic\n",
    "ON ad.subject_id = ic.subject_id\n",
    "INNER JOIN patients pa\n",
    "ON ad.subject_id = pa.subject_id\n",
    "WHERE ic.icustay_id = \"\"\" + str(icustay_id) + \"\"\" \n",
    "ORDER BY ic.intime\n",
    "\"\"\"\n",
    "\n",
    "admissions = pd.read_sql_query(query,con)"
   ]
  },
  {
   "cell_type": "code",
   "execution_count": null,
   "metadata": {
    "collapsed": false
   },
   "outputs": [],
   "source": [
    "# First few rows of admissions\n",
    "admissions.head()"
   ]
  },
  {
   "cell_type": "code",
   "execution_count": null,
   "metadata": {
    "collapsed": false
   },
   "outputs": [],
   "source": [
    "# Load chartevents\n",
    "query = \"\"\"\n",
    "SELECT ce.icustay_id\n",
    "  , ce.charttime\n",
    "  , ce.charttime - ie.intime AS icutime\n",
    "  , di.label\n",
    "  , ce.value\n",
    "  , ce.valuenum\n",
    "  , ce.valueuom\n",
    "FROM chartevents ce\n",
    "INNER join d_items di\n",
    "ON ce.itemid = di.itemid\n",
    "INNER join icustays ie\n",
    "ON ce.icustay_id = ie.icustay_id\n",
    "WHERE ce.icustay_id = \"\"\" + str(icustay_id) + \"\"\"\n",
    "AND error != 1\n",
    "ORDER BY ce.charttime\n",
    "\"\"\"\n",
    "\n",
    "charts = pd.read_sql_query(query,con)"
   ]
  },
  {
   "cell_type": "code",
   "execution_count": null,
   "metadata": {
    "collapsed": false
   },
   "outputs": [],
   "source": [
    "# First few rows of charts\n",
    "charts.head()"
   ]
  },
  {
   "cell_type": "code",
   "execution_count": null,
   "metadata": {
    "collapsed": false
   },
   "outputs": [],
   "source": [
    "# Load outputevents\n",
    "query = \"\"\"\n",
    "SELECT oe.icustay_id\n",
    "  , oe.charttime\n",
    "  , oe.charttime - ie.intime AS icutime\n",
    "  , di.label\n",
    "  , oe.value\n",
    "  , oe.valueuom\n",
    "FROM outputevents oe \n",
    "INNER JOIN icustays ie\n",
    "  ON oe.icustay_id = ie.icustay_id\n",
    "INNER JOIN d_items di\n",
    "  ON oe.itemid = di.itemid\n",
    "WHERE oe.icustay_id = \"\"\" + str(icustay_id) + \"\"\"\n",
    "ORDER BY oe.charttime\n",
    "\"\"\"\n",
    "\n",
    "outputs = pd.read_sql_query(query,con)"
   ]
  },
  {
   "cell_type": "code",
   "execution_count": null,
   "metadata": {
    "collapsed": false
   },
   "outputs": [],
   "source": [
    "# First few rows of outputs\n",
    "outputs.head()"
   ]
  },
  {
   "cell_type": "code",
   "execution_count": null,
   "metadata": {
    "collapsed": false
   },
   "outputs": [],
   "source": [
    "# Load inputevents\n",
    "query = \"\"\"\n",
    "SELECT inp.icustay_id\n",
    "  , inp.starttime\n",
    "  , inp.endtime\n",
    "  , inp.starttime - ie.intime AS icustarttime\n",
    "  , inp.endtime - ie.intime AS icuendtime\n",
    "  , di.label\n",
    "  , inp.amount\n",
    "  , inp.amountuom\n",
    "  , inp.rate\n",
    "  , inp.rateuom\n",
    "FROM inputevents_mv inp \n",
    "INNER join icustays ie\n",
    "  ON inp.icustay_id = ie.icustay_id\n",
    "INNER join d_items di\n",
    "  ON inp.itemid = di.itemid\n",
    "WHERE inp.icustay_id = \"\"\" + str(icustay_id) + \"\"\"\n",
    "AND lower(inp.statusdescription) != 'rewritten'\n",
    "ORDER BY inp.starttime\n",
    "\"\"\"\n",
    "\n",
    "inputs = pd.read_sql_query(query,con)"
   ]
  },
  {
   "cell_type": "code",
   "execution_count": null,
   "metadata": {
    "collapsed": false
   },
   "outputs": [],
   "source": [
    "# First few rows of inputs\n",
    "inputs.head()"
   ]
  },
  {
   "cell_type": "code",
   "execution_count": null,
   "metadata": {
    "collapsed": false
   },
   "outputs": [],
   "source": [
    "# Load labevents\n",
    "query = \"\"\"\n",
    "SELECT le.subject_id\n",
    "  , ie.icustay_id\n",
    "  , le.charttime\n",
    "  , le.charttime - ie.intime AS icutime\n",
    "  , di.label\n",
    "  , le.value\n",
    "  , le.valuenum\n",
    "  , le.valueuom\n",
    "FROM labevents le\n",
    "INNER join icustays ie\n",
    "  ON le.subject_id = ie.subject_id\n",
    "  AND le.charttime >= ie.intime\n",
    "  AND le.charttime <= ie.outtime\n",
    "INNER JOIN d_labitems di\n",
    "  ON le.itemid = di.itemid\n",
    "WHERE ie.icustay_id = \"\"\" + str(icustay_id) + \"\"\"\n",
    "ORDER BY le.charttime\n",
    "\"\"\"\n",
    "\n",
    "labs = pd.read_sql_query(query,con)"
   ]
  },
  {
   "cell_type": "code",
   "execution_count": null,
   "metadata": {
    "collapsed": false
   },
   "outputs": [],
   "source": [
    "# First few rows of labs\n",
    "labs.head()"
   ]
  },
  {
   "cell_type": "code",
   "execution_count": null,
   "metadata": {
    "collapsed": false
   },
   "outputs": [],
   "source": [
    "# Snip data to specified number of days\n",
    "maxdays = 5;\n",
    "charts = charts.loc[charts.icutime.dt.days<=maxdays]\n",
    "outputs = outputs.loc[outputs.icutime.dt.days<=maxdays]\n",
    "inputs = inputs.loc[inputs.icustarttime.dt.days<=maxdays]\n",
    "labs = labs.loc[labs.icutime.dt.days<=maxdays]"
   ]
  },
  {
   "cell_type": "code",
   "execution_count": null,
   "metadata": {
    "collapsed": false
   },
   "outputs": [],
   "source": [
    "# Create column with minutes from ICU intime\n",
    "charts['icutimehr'] = (charts['icutime'].dt.seconds/60/60)+(charts['icutime'].dt.days*24)\n",
    "outputs['icutimehr'] = (outputs['icutime'].dt.seconds/60/60)+(outputs['icutime'].dt.days*24)\n",
    "inputs['icustarttimehr'] = (inputs['icustarttime'].dt.seconds/60/60)+(inputs['icustarttime'].dt.days*24)\n",
    "inputs['icuendtimehr'] = (inputs['icuendtime'].dt.seconds/60/60)+(inputs['icuendtime'].dt.days*24)\n",
    "labs['icutimehr'] = (labs['icutime'].dt.seconds/60/60)+(labs['icutime'].dt.days*24)"
   ]
  },
  {
   "cell_type": "code",
   "execution_count": null,
   "metadata": {
    "collapsed": false
   },
   "outputs": [],
   "source": [
    "# What are the most commonly measured variables in charts?\n",
    "charts['label'].value_counts().head()"
   ]
  },
  {
   "cell_type": "code",
   "execution_count": null,
   "metadata": {
    "collapsed": false
   },
   "outputs": [],
   "source": [
    "# What are the most commonly measured variables in charts?\n",
    "outputs['label'].value_counts().head()"
   ]
  },
  {
   "cell_type": "code",
   "execution_count": null,
   "metadata": {
    "collapsed": false
   },
   "outputs": [],
   "source": [
    "# What are the most commonly measured variables in charts?\n",
    "inputs['label'].value_counts().head()"
   ]
  },
  {
   "cell_type": "code",
   "execution_count": null,
   "metadata": {
    "collapsed": false
   },
   "outputs": [],
   "source": [
    "# What are the most commonly measured variables in charts?\n",
    "labs.mean()"
   ]
  },
  {
   "cell_type": "code",
   "execution_count": null,
   "metadata": {
    "collapsed": false
   },
   "outputs": [],
   "source": [
    "# Get average values\n",
    "hr_mean = charts.valuenum[charts.label=='Heart Rate'].mean()\n",
    "bp_mean = charts.icutimehr[charts.label=='Non Invasive Blood Pressure mean'].mean()\n",
    "temp_mean = ((charts.valuenum[charts.label=='Temperature Fahrenheit']-32)/1.8).mean()\n",
    "\n",
    "# Print averages\n",
    "print(\"Mean HR is: {0:.2f}\".format(hr_mean))\n",
    "print(\"Mean BP is: {0:.2f}\".format(bp_mean))\n",
    "print(\"Mean temp, C is: {0:.2f}\".format(temp_mean))\n"
   ]
  },
  {
   "cell_type": "code",
   "execution_count": null,
   "metadata": {
    "collapsed": false,
    "scrolled": false
   },
   "outputs": [],
   "source": [
    "# Plot sample data over first 24 hours from admission to ICU\n",
    "# Credit: Randal Olson for styling (http://www.randalolson.com/2014/06/28/)\n",
    "\n",
    "# Prepare the size of the figure\n",
    "fig = plt.figure(figsize=(22, 20))\n",
    "plt.rcParams.update({'font.size': 22})\n",
    "\n",
    "# \"Tableau 20\" colors as RGB.   \n",
    "tableau20 = [(31, 119, 180), (174, 199, 232), (255, 127, 14), (255, 187, 120),    \n",
    "             (44, 160, 44), (152, 223, 138), (214, 39, 40), (255, 152, 150),    \n",
    "             (148, 103, 189), (197, 176, 213), (140, 86, 75), (196, 156, 148),    \n",
    "             (227, 119, 194), (247, 182, 210), (127, 127, 127), (199, 199, 199),    \n",
    "             (188, 189, 34), (219, 219, 141), (23, 190, 207), (158, 218, 229)]  \n",
    "  \n",
    "# Scale the RGB values to the [0, 1] range, which is the format matplotlib accepts.    \n",
    "for i in range(len(tableau20)):    \n",
    "    r, g, b = tableau20[i]    \n",
    "    tableau20[i] = (r / 255., g / 255., b / 255.)\n",
    "    \n",
    "# Remove the plot frame lines. \n",
    "ax = plt.subplot(111)    \n",
    "ax.spines[\"top\"].set_visible(False)    \n",
    "ax.spines[\"bottom\"].set_visible(True)    \n",
    "ax.spines[\"right\"].set_visible(False)    \n",
    "ax.spines[\"left\"].set_visible(True)    \n",
    "  \n",
    "# Ensure that the axis ticks only show up on the bottom and left of the plot.      \n",
    "ax.get_xaxis().tick_bottom()    \n",
    "ax.get_yaxis().tick_left() \n",
    "ax.axis([0,60,0,220])\n",
    "\n",
    "# Plot vital signs\n",
    "plt.plot(charts.icutimehr[charts.label=='Heart Rate'], \n",
    "         charts.valuenum[charts.label=='Heart Rate'],\n",
    "         color=tableau20[6], lw=2.5,\n",
    "         marker='o', markersize=6, label='Heart rate')\n",
    "\n",
    "plt.plot(charts.icutimehr[charts.label=='O2 saturation pulseoxymetry'], \n",
    "         charts.valuenum[charts.label=='O2 saturation pulseoxymetry'],\n",
    "         color=tableau20[1], lw=2.5, \n",
    "         marker='o', markersize=6, label='O2 sat.')\n",
    "\n",
    "plt.plot(charts.icutimehr[charts.label=='Non Invasive Blood Pressure mean'], \n",
    "         charts.valuenum[charts.label=='Non Invasive Blood Pressure mean'],\n",
    "         color=tableau20[4], lw=2.5,\n",
    "         marker='o', markersize=6, label='BP mean')\n",
    "\n",
    "plt.plot(charts.icutimehr[charts.label=='Respiratory Rate'], \n",
    "         charts.valuenum[charts.label=='Respiratory Rate'],\n",
    "         color=tableau20[2], lw=2.5,\n",
    "         marker='o', markersize=6, label='Resp. rate')\n",
    "\n",
    "# for i, txt in enumerate(charts.value[charts.label=='Temperature Fahrenheit'].values):\n",
    "#         plt.annotate(txt,(charts.icutimehr[charts.label=='Temperature Fahrenheit'].\n",
    "#                            values[i],140),fontsize=15)\n",
    "\n",
    "# Plot input/output events\n",
    "plt.plot(inputs.icustarttimehr[inputs.amountuom=='mL'], \n",
    "         inputs.amount[inputs.amountuom=='mL'].cumsum()/100, \n",
    "         color=tableau20[9], lw=2.5,\n",
    "         marker='o', markersize=6, label='Intake volume, dL')\n",
    "\n",
    "plt.plot(outputs.icutimehr, \n",
    "         outputs.value.cumsum()/100, \n",
    "         color=tableau20[10], lw=2.5,\n",
    "         marker='o', markersize=6, label='Output volume, dL')\n",
    "\n",
    "# Plot IV meds\n",
    "# for i, idx in enumerate(inputs.index[inputs.label=='NaCl 0.9%']):\n",
    "#     plt.plot([inputs.icustarttime[inputs.label=='NaCl 0.9%'][idx],\n",
    "#              inputs.icuendtime[inputs.label=='NaCl 0.9%'][idx]],\n",
    "#             [inputs.rate[inputs.label=='NaCl 0.9%'][idx],\n",
    "#              inputs.rate[inputs.label=='NaCl 0.9%'][idx]],\n",
    "#             'b-',linewidth=4)\n",
    "\n",
    "for i, idx in enumerate(inputs.index[inputs.label=='Amiodarone 600/500']):\n",
    "    plt.plot([inputs.icustarttimehr[inputs.label=='Amiodarone 600/500'][idx],\n",
    "              inputs.icuendtimehr[inputs.label=='Amiodarone 600/500'][idx]],[150,150],\n",
    "             color=tableau20[14], lw=4,marker='o', markersize=6)\n",
    "\n",
    "plt.text(-10,170,'Neutrophil',fontsize=17)\n",
    "for i, txt in enumerate(labs.value[labs.label=='NEUTROPHILS'].values):\n",
    "        plt.annotate(txt, (labs.icutimehr[labs.label=='NEUTROPHILS'].\n",
    "                           values[i],170),fontsize=17) \n",
    "\n",
    "plt.text(-10,175,'White blood cell',fontsize=17)\n",
    "for i, txt in enumerate(labs.value[labs.label=='WHITE BLOOD CELLS'].values):\n",
    "        plt.annotate(txt, (labs.icutimehr[labs.label=='WHITE BLOOD CELLS'].\n",
    "                           values[i],175),fontsize=17)\n",
    "\n",
    "plt.text(-10,180,'Creatinine',fontsize=17)        \n",
    "for i, txt in enumerate(labs.value[labs.label=='CREATININE'].values):\n",
    "        plt.annotate(txt, (labs.icutimehr[labs.label=='CREATININE'].\n",
    "                           values[i],180),fontsize=17)\n",
    "\n",
    "plt.text(-10,185,'Platelet',fontsize=17)\n",
    "for i, txt in enumerate(labs.value[labs.label=='PLATELET COUNT'].values):\n",
    "        plt.annotate(txt, (labs.icutimehr[labs.label=='PLATELET COUNT'].\n",
    "                           values[i],185),fontsize=17)\n",
    "\n",
    "# Plot Glasgow Coma Scale\n",
    "plt.text(-10,200,'GCS: Eye',fontsize=17)\n",
    "for i, txt in enumerate(charts.value[charts.label=='GCS - Eye Opening'].values):\n",
    "    if np.mod(i,2)==0 and i < 65:\n",
    "        plt.annotate(txt, (charts.icutimehr[charts.label=='GCS - Eye Opening'].\n",
    "                           values[i],200),fontsize=17)\n",
    "\n",
    "plt.text(-10,205,'GCS: Motor',fontsize=17)\n",
    "for i, txt in enumerate(charts.value[charts.label=='GCS - Motor Response'].values):\n",
    "    if np.mod(i,2)==0 and i < 65:\n",
    "        plt.annotate(txt, (charts.icutimehr[charts.label=='GCS - Motor Response'].\n",
    "                           values[i],205),fontsize=17)\n",
    "\n",
    "plt.text(-10,210,'GCS: Verbal',fontsize=17)  \n",
    "for i, txt in enumerate(charts.value[charts.label=='GCS - Verbal Response'].values):\n",
    "    if np.mod(i,2)==0 and i < 65:\n",
    "        plt.annotate(txt, (charts.icutimehr[charts.label=='GCS - Verbal Response'].\n",
    "                           values[i],210),fontsize=17)\n",
    "\n",
    "# Plot code status\n",
    "plt.text(-10,220,'Code status',fontsize=17) \n",
    "for i, txt in enumerate(charts.value[charts.label=='Code Status'].values):\n",
    "        plt.annotate(txt, (charts.icutimehr[charts.label=='Code Status'].\n",
    "                           values[i],220),fontsize=17)\n",
    "        \n",
    "plt.legend(loc=5,fontsize=18)\n",
    "plt.xlabel('Time from admission to ICU, hours', fontsize=22)\n",
    "plt.ylabel('Measurement, absolute value', fontsize=22)\n",
    "\n",
    "\n",
    "# Save the figure\n",
    "# fig.savefig('examplepatient.pdf', bbox_inches='tight')"
   ]
  },
  {
   "cell_type": "code",
   "execution_count": null,
   "metadata": {
    "collapsed": false
   },
   "outputs": [],
   "source": [
    "inputs"
   ]
  }
 ],
 "metadata": {
  "kernelspec": {
   "display_name": "Python 2",
   "language": "python",
   "name": "python2"
  },
  "language_info": {
   "codemirror_mode": {
    "name": "ipython",
    "version": 2
   },
   "file_extension": ".py",
   "mimetype": "text/x-python",
   "name": "python",
   "nbconvert_exporter": "python",
   "pygments_lexer": "ipython2",
   "version": "2.7.11"
  }
 },
 "nbformat": 4,
 "nbformat_minor": 0
}
