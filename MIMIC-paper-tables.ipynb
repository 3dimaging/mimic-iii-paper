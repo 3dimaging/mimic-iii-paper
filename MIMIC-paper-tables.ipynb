{
 "cells": [
  {
   "cell_type": "markdown",
   "metadata": {},
   "source": [
    "# Code used to create tables in the MIMIC-III paper"
   ]
  },
  {
   "cell_type": "markdown",
   "metadata": {},
   "source": [
    "## Table 2: MIMIC-II patient population by critical care unit"
   ]
  },
  {
   "cell_type": "code",
   "execution_count": 18,
   "metadata": {
    "collapsed": true
   },
   "outputs": [],
   "source": [
    "# Import libraries\n",
    "import numpy as np\n",
    "import pandas as pd\n",
    "import matplotlib.pyplot as plt\n",
    "import psycopg2\n",
    "%matplotlib inline"
   ]
  },
  {
   "cell_type": "code",
   "execution_count": 19,
   "metadata": {
    "collapsed": true
   },
   "outputs": [],
   "source": [
    "# Config\n",
    "sqluser = 'postgres'\n",
    "dbname = 'mimic'\n",
    "schema_name = 'mimiciii'"
   ]
  },
  {
   "cell_type": "code",
   "execution_count": 20,
   "metadata": {
    "collapsed": false
   },
   "outputs": [],
   "source": [
    "# Connect to MIMIC\n",
    "con = psycopg2.connect(dbname=dbname, user=sqluser)\n",
    "cur = con.cursor()\n",
    "cur.execute('SET search_path to ' + schema_name)\n",
    "# cur.close()\n",
    "# con.close()"
   ]
  },
  {
   "cell_type": "markdown",
   "metadata": {},
   "source": [
    "These are the details that we would like to include in Table 2, grouped by first careunit:\n",
    "\n",
    "- Hospital admissions, no. (% of total admissions)\n",
    "- Distinct ICU stays, no. (% of total unit stays)\n",
    "- Age, yrs, mean ± SD\n",
    "- Gender, male, percent of unit stays\n",
    "- ICU length of stay, median days (IQR)\n",
    "- Hospital length of stay, median days (IQR)\n",
    "- ICU mortality, percent of unit stays\n",
    "- Hospital mortality, percent of unit stays"
   ]
  },
  {
   "cell_type": "markdown",
   "metadata": {},
   "source": [
    "### Extract and review the data"
   ]
  },
  {
   "cell_type": "code",
   "execution_count": 21,
   "metadata": {
    "collapsed": false
   },
   "outputs": [
    {
     "name": "stdout",
     "output_type": "stream",
     "text": [
      "   subject_id  hadm_id  icustay_id      hosp_admittime      hosp_dischtime  \\\n",
      "0           2   163353      243653 2138-07-17 19:04:00 2138-07-21 15:48:00   \n",
      "1           3   145834      211552 2101-10-20 19:08:00 2101-10-31 13:58:00   \n",
      "2           4   185777      294638 2191-03-16 00:28:00 2191-03-23 18:41:00   \n",
      "3           5   178980      214757 2103-02-02 04:31:00 2103-02-04 12:15:00   \n",
      "4           6   107064      228232 2175-05-30 07:15:00 2175-06-15 16:00:00   \n",
      "\n",
      "  first_careunit  icu_seq        dob        dod          icu_intime  \\\n",
      "0           NICU        1 2138-07-17        NaT 2138-07-17 21:20:07   \n",
      "1           MICU        1 2025-04-11 2102-06-14 2101-10-20 19:10:11   \n",
      "2           MICU        1 2143-05-12        NaT 2191-03-16 00:29:31   \n",
      "3           NICU        1 2103-02-02        NaT 2103-02-02 06:04:24   \n",
      "4           SICU        1 2109-06-21        NaT 2175-05-30 21:30:54   \n",
      "\n",
      "          icu_outtime  icu_los  hosp_los gender  age_hosp_in  age_icu_in  \\\n",
      "0 2138-07-17 23:32:21   0.0918    3.8639      M       0.0022      0.0024   \n",
      "1 2101-10-26 20:43:09   6.0646   10.7847      M      76.5268     76.5268   \n",
      "2 2191-03-17 16:46:31   1.6785    7.7590      F      47.8450     47.8450   \n",
      "3 2103-02-02 08:06:00   0.0844    2.3222      M       0.0005      0.0007   \n",
      "4 2175-06-03 13:39:54   3.6729   16.3646      F      65.9407     65.9423   \n",
      "\n",
      "   hospital_expire_flag  icu_expire_flag  \n",
      "0                     0                0  \n",
      "1                     0                0  \n",
      "2                     0                0  \n",
      "3                     0                0  \n",
      "4                     0                0  \n"
     ]
    }
   ],
   "source": [
    "# Join admissions, icustays, and patients tables\n",
    "\n",
    "query = \\\n",
    "\"\"\"\n",
    "SELECT a.subject_id, a.hadm_id, i.icustay_id, \n",
    "    a.admittime as hosp_admittime, a.dischtime as hosp_dischtime, \n",
    "    i.first_careunit, \n",
    "    DENSE_RANK() over(PARTITION BY a.hadm_id ORDER BY i.intime ASC) as icu_seq,\n",
    "    p.dob, p.dod, i.intime as icu_intime, i.outtime as icu_outtime, \n",
    "    i.los as icu_los,\n",
    "    round((EXTRACT(EPOCH FROM (a.dischtime-a.admittime))/60/60/24) :: NUMERIC, 4) as hosp_los, \n",
    "    p.gender, \n",
    "    round((EXTRACT(EPOCH FROM (a.admittime-p.dob))/60/60/24/365.242) :: NUMERIC, 4) as age_hosp_in,\n",
    "    round((EXTRACT(EPOCH FROM (i.intime-p.dob))/60/60/24/365.242) :: NUMERIC, 4) as age_icu_in,\n",
    "    hospital_expire_flag,\n",
    "    CASE WHEN p.dod IS NOT NULL \n",
    "        AND p.dod >= i.intime - interval '6 hour'\n",
    "        AND p.dod <= i.outtime + interval '6 hour' THEN 1 \n",
    "        ELSE 0 END AS icu_expire_flag\n",
    "FROM admissions a\n",
    "INNER JOIN icustays i\n",
    "ON a.hadm_id = i.hadm_id\n",
    "INNER JOIN patients p\n",
    "ON a.subject_id = p.subject_id\n",
    "ORDER BY a.subject_id, i.intime;\n",
    "\"\"\"\n",
    "\n",
    "query_output = pd.read_sql_query(query,con)\n",
    "print(query_output.head())"
   ]
  },
  {
   "cell_type": "markdown",
   "metadata": {},
   "source": [
    "### Distinct patients, no. (% of total admissions)"
   ]
  },
  {
   "cell_type": "code",
   "execution_count": 22,
   "metadata": {
    "collapsed": false
   },
   "outputs": [
    {
     "name": "stdout",
     "output_type": "stream",
     "text": [
      "\n",
      "Total patients: 46476\n",
      "\n",
      "Number of patients by first careunit:\n",
      "\n",
      "first_careunit   CCU  CSRU   MICU  NICU  SICU  TSICU\n",
      "subject_id      5674  8092  13650  7870  6372   4818\n",
      "\n",
      "Proportion of total hospital admissions:\n",
      "\n",
      "first_careunit        CCU       CSRU       MICU       NICU       SICU  \\\n",
      "subject_id      12.208452  17.411137  29.369997  16.933471  13.710302   \n",
      "\n",
      "first_careunit      TSICU  \n",
      "subject_id      10.366641  \n"
     ]
    }
   ],
   "source": [
    "print('\\nTotal patients: {}')\\\n",
    "    .format(len(query_output.subject_id.unique()))\n",
    "\n",
    "print('\\nNumber of patients by first careunit:\\n')\n",
    "print(query_output[['first_careunit','subject_id']] \\\n",
    "                    .drop_duplicates(['subject_id']) \\\n",
    "                    .groupby('first_careunit').count()).T\n",
    "    \n",
    "print('\\nProportion of total hospital admissions:\\n')\n",
    "print(query_output[['first_careunit','subject_id']] \\\n",
    "                    .drop_duplicates(['subject_id']) \\\n",
    "                    .groupby('first_careunit') \\\n",
    "                    .count()/len(query_output.subject_id.unique())*100).T"
   ]
  },
  {
   "cell_type": "markdown",
   "metadata": {},
   "source": [
    "### Hospital admissions, no. (% of total admissions)"
   ]
  },
  {
   "cell_type": "code",
   "execution_count": 23,
   "metadata": {
    "collapsed": false
   },
   "outputs": [
    {
     "name": "stdout",
     "output_type": "stream",
     "text": [
      "\n",
      "Total hospital admissions: 57786\n",
      "\n",
      "Number of hospital admissions by first careunit:\n",
      "\n",
      "first_careunit   CCU  CSRU   MICU  NICU  SICU  TSICU\n",
      "hadm_id         7258  9157  19771  7992  8110   5498\n",
      "\n",
      "Proportion of total hospital admissions:\n",
      "\n",
      "first_careunit        CCU       CSRU      MICU      NICU       SICU     TSICU\n",
      "hadm_id         12.560136  15.846399  34.21417  13.83034  14.034541  9.514415\n"
     ]
    }
   ],
   "source": [
    "print('\\nTotal hospital admissions: {}')\\\n",
    "    .format(len(query_output.hadm_id.unique()))\n",
    "\n",
    "print('\\nNumber of hospital admissions by first careunit:\\n')\n",
    "print(query_output[['first_careunit','hadm_id']] \\\n",
    "                    .drop_duplicates(['hadm_id']) \\\n",
    "                    .groupby('first_careunit').count()).T\n",
    "    \n",
    "print('\\nProportion of total hospital admissions:\\n')\n",
    "print(query_output[['first_careunit','hadm_id']] \\\n",
    "                    .drop_duplicates(['hadm_id']) \\\n",
    "                    .groupby('first_careunit') \\\n",
    "                    .count()/len(query_output.hadm_id.unique())*100).T"
   ]
  },
  {
   "cell_type": "markdown",
   "metadata": {},
   "source": [
    "### Distinct ICU stays, no. (% of total unit stays)"
   ]
  },
  {
   "cell_type": "code",
   "execution_count": 24,
   "metadata": {
    "collapsed": false
   },
   "outputs": [
    {
     "name": "stdout",
     "output_type": "stream",
     "text": [
      "\n",
      "Total ICU stays: 61532\n",
      "\n",
      "Number of ICU stays by careunit:\n",
      "\n",
      "first_careunit   CCU  CSRU   MICU  NICU  SICU  TSICU\n",
      "icustay_id      7726  9855  21088  8100  8891   5872\n",
      "\n",
      "Proportion of total ICU stays:\n",
      "\n",
      "first_careunit        CCU       CSRU       MICU       NICU       SICU  \\\n",
      "icustay_id      12.556068  16.016057  34.271599  13.163882  14.449392   \n",
      "\n",
      "first_careunit     TSICU  \n",
      "icustay_id      9.543002  \n"
     ]
    }
   ],
   "source": [
    "print('\\nTotal ICU stays: {}')\\\n",
    "    .format(len(query_output.icustay_id.unique()))\n",
    "\n",
    "print('\\nNumber of ICU stays by careunit:\\n')\n",
    "print(query_output[['first_careunit','icustay_id']] \\\n",
    "          .groupby('first_careunit').count()).T\n",
    "\n",
    "print('\\nProportion of total ICU stays:\\n')\n",
    "print(query_output[['first_careunit','icustay_id']] \\\n",
    "          .groupby('first_careunit') \\\n",
    "          .count()/len(query_output.icustay_id.unique())*100).T"
   ]
  },
  {
   "cell_type": "markdown",
   "metadata": {},
   "source": [
    "### Age, yrs, median ± IQR"
   ]
  },
  {
   "cell_type": "code",
   "execution_count": 25,
   "metadata": {
    "collapsed": false
   },
   "outputs": [
    {
     "name": "stdout",
     "output_type": "stream",
     "text": [
      "Median age, years: 62.07505 \n",
      "Lower quartile age, years: 44.350675 \n",
      "Upper quartile age, years: 76.0588 \n",
      " \n",
      "Median age by careunit, years:\n",
      " \n",
      "first_careunit      CCU     CSRU     MICU    NICU     SICU     TSICU\n",
      "age_icu_in      70.5697  67.5974  64.9123  0.0018  63.5819  59.84315\n",
      "\n",
      "Lower quartile by careunit, years:\n",
      " \n",
      "first_careunit       CCU     CSRU      MICU   NICU      SICU      TSICU\n",
      "age_icu_in      58.44555  57.6042  51.65295  0.001  51.44315  42.825125\n",
      "\n",
      "Upper quartile by careunit, years:\n",
      " \n",
      "first_careunit        CCU      CSRU       MICU    NICU     SICU     TSICU\n",
      "age_icu_in      80.541375  76.68095  78.168925  0.0025  76.4575  75.63555\n"
     ]
    }
   ],
   "source": [
    "# Better to report median IQR because >89 appear as 300\n",
    "print('Median age, years: {} ').format(query_output.age_icu_in.median())\n",
    "print('Lower quartile age, years: {} ').format(query_output.age_icu_in.quantile(0.25))\n",
    "print('Upper quartile age, years: {} \\n ').format(query_output.age_icu_in.quantile(0.75))\n",
    "\n",
    "print('Median age by careunit, years:\\n ')\n",
    "print(query_output[['first_careunit','age_icu_in']] \\\n",
    "      .groupby('first_careunit').median()).T\n",
    "\n",
    "print('\\nLower quartile by careunit, years:\\n ')\n",
    "print(query_output[['first_careunit','age_icu_in']] \\\n",
    "      .groupby('first_careunit').quantile(0.25)).T\n",
    "\n",
    "print('\\nUpper quartile by careunit, years:\\n ')\n",
    "print(query_output[['first_careunit','age_icu_in']] \\\n",
    "      .groupby('first_careunit').quantile(0.75)).T\n"
   ]
  },
  {
   "cell_type": "markdown",
   "metadata": {},
   "source": [
    "### Gender, male, percent of unit stays"
   ]
  },
  {
   "cell_type": "code",
   "execution_count": 26,
   "metadata": {
    "collapsed": false
   },
   "outputs": [
    {
     "name": "stdout",
     "output_type": "stream",
     "text": [
      "Gender:\n",
      "\n",
      "gender\n",
      "F    25488\n",
      "M    32298\n",
      "Name: gender, dtype: int64\n",
      "gender\n",
      "F    44.107569\n",
      "M    55.892431\n",
      "Name: gender, dtype: float64\n",
      "Gender by careunit:\n",
      "\n",
      "first_careunit  gender\n",
      "CCU             F          3055\n",
      "                M          4203\n",
      "CSRU            F          3156\n",
      "                M          6001\n",
      "MICU            F          9578\n",
      "                M         10193\n",
      "NICU            F          3682\n",
      "                M          4310\n",
      "SICU            F          3859\n",
      "                M          4251\n",
      "TSICU           F          2158\n",
      "                M          3340\n",
      "Name: gender, dtype: int64\n",
      "\n",
      "Proportion by unit:\n",
      "\n",
      "first_careunit  gender\n",
      "CCU             F         42.091485\n",
      "                M         57.908515\n",
      "CSRU            F         34.465436\n",
      "                M         65.534564\n",
      "MICU            F         48.444692\n",
      "                M         51.555308\n",
      "NICU            F         46.071071\n",
      "                M         53.928929\n",
      "SICU            F         47.583231\n",
      "                M         52.416769\n",
      "TSICU           F         39.250637\n",
      "                M         60.749363\n",
      "Name: gender, dtype: float64\n"
     ]
    }
   ],
   "source": [
    "print('Gender:\\n')\n",
    "print(query_output.loc[query_output.icu_seq==1].groupby('gender').gender.count())\n",
    "print(query_output.loc[query_output.icu_seq==1].groupby('gender').gender.count() \\\n",
    "     /query_output.loc[query_output.icu_seq==1].gender.count()*100)\n",
    "\n",
    "print('Gender by careunit:\\n')\n",
    "print(query_output.loc[query_output.icu_seq==1] \\\n",
    "    .groupby(['first_careunit','gender']).gender.count())\n",
    "\n",
    "print('\\nProportion by unit:\\n')\n",
    "print(query_output.loc[query_output.icu_seq==1] \\\n",
    "    .groupby(['first_careunit','gender']) \\\n",
    "    .gender.count()/query_output.loc[query_output.icu_seq==1] \\\n",
    "    .groupby(['first_careunit']).gender.count())*100"
   ]
  },
  {
   "cell_type": "markdown",
   "metadata": {},
   "source": [
    "### ICU length of stay, median days (IQR)"
   ]
  },
  {
   "cell_type": "code",
   "execution_count": 27,
   "metadata": {
    "collapsed": false
   },
   "outputs": [
    {
     "name": "stdout",
     "output_type": "stream",
     "text": [
      "Median ICU length of stay, days: 2.09225\n",
      "Lower quartile ICU length of stay, days: 1.108025\n",
      "Upper quartile ICU length of stay, days: 4.483175\n",
      "\n",
      "Median length of ICU stay by careunit, days:\n",
      " \n",
      "first_careunit      CCU    CSRU    MICU    NICU    SICU    TSICU\n",
      "icu_los         2.19775  2.1549  2.0955  0.8025  2.2522  2.10045\n",
      "\n",
      "Lower quartile length of ICU stay, days:\n",
      " \n",
      "first_careunit       CCU      CSRU      MICU   NICU     SICU     TSICU\n",
      "icu_los         1.213225  1.216225  1.189125  0.141  1.25155  1.163275\n",
      "\n",
      "Upper quartile length of ICU stay, days:\n",
      " \n",
      "first_careunit      CCU      CSRU      MICU    NICU    SICU     TSICU\n",
      "icu_los         4.14855  4.001575  4.095575  9.7436  4.9327  4.579425\n"
     ]
    }
   ],
   "source": [
    "print('Median ICU length of stay, days: {}').format(query_output.icu_los.median())\n",
    "print('Lower quartile ICU length of stay, days: {}') \\\n",
    "    .format(query_output.icu_los.quantile(0.25))\n",
    "print('Upper quartile ICU length of stay, days: {}\\n') \\\n",
    "    .format(query_output.icu_los.quantile(0.75))\n",
    "\n",
    "print('Median length of ICU stay by careunit, days:\\n ')\n",
    "print(query_output[['first_careunit','icu_los']] \\\n",
    "      .groupby('first_careunit').median()).T\n",
    "\n",
    "print('\\nLower quartile length of ICU stay, days:\\n ')\n",
    "print(query_output[['first_careunit','icu_los']] \\\n",
    "      .groupby('first_careunit').quantile(0.25)).T\n",
    "\n",
    "print('\\nUpper quartile length of ICU stay, days:\\n ')\n",
    "print(query_output[['first_careunit','icu_los']] \\\n",
    "      .groupby('first_careunit').quantile(0.75)).T\n"
   ]
  },
  {
   "cell_type": "markdown",
   "metadata": {},
   "source": [
    "### Hospital length of stay, median days (IQR)"
   ]
  },
  {
   "cell_type": "code",
   "execution_count": 28,
   "metadata": {
    "collapsed": false
   },
   "outputs": [
    {
     "name": "stdout",
     "output_type": "stream",
     "text": [
      "Median length of hospital stay, days: 6.5549\n",
      "Lower quartile length of hospital stay, days: 3.7889\n",
      "Upper quartile length of hospital stay, days: 11.8549\n",
      "\n",
      "Median length of hospital stay, days:\n",
      " \n",
      "first_careunit     CCU    CSRU    MICU    NICU    SICU    TSICU\n",
      "hosp_los        5.7576  7.3743  6.4222  4.1132  7.9313  7.43125\n",
      "\n",
      "Lower quartile length of hospital stay, days:\n",
      " \n",
      "first_careunit       CCU    CSRU     MICU      NICU    SICU     TSICU\n",
      "hosp_los        3.105075  5.2396  3.67395  2.344925  4.4146  4.068425\n",
      "\n",
      "Upper quartile length of hospital stay, days:\n",
      " \n",
      "first_careunit        CCU     CSRU     MICU       NICU       SICU    TSICU\n",
      "hosp_los        10.026225  11.3507  11.7299  10.262325  14.240125  13.5807\n"
     ]
    }
   ],
   "source": [
    "# NB: hadm_id is repeated in data due to multiple ICU stays\n",
    "# ...so need to drop duplicates\n",
    "print('Median length of hospital stay, days: {}') \\\n",
    "    .format(query_output.drop_duplicates(['hadm_id']).hosp_los.median())\n",
    "print('Lower quartile length of hospital stay, days: {}') \\\n",
    "    .format(query_output.drop_duplicates(['hadm_id']).hosp_los.quantile(0.25))\n",
    "print('Upper quartile length of hospital stay, days: {}\\n') \\\n",
    "    .format(query_output.drop_duplicates(['hadm_id']).hosp_los.quantile(0.75))\n",
    "\n",
    "print('Median length of hospital stay, days:\\n ')\n",
    "print(query_output.drop_duplicates(['hadm_id']) \\\n",
    "      [['first_careunit','hosp_los']] \\\n",
    "      .groupby('first_careunit').median()).T\n",
    "\n",
    "print('\\nLower quartile length of hospital stay, days:\\n ')\n",
    "print(query_output.drop_duplicates(['hadm_id']) \\\n",
    "      [['first_careunit','hosp_los']] \\\n",
    "      .groupby('first_careunit').quantile(0.25)).T\n",
    "\n",
    "print('\\nUpper quartile length of hospital stay, days:\\n ')\n",
    "print(query_output.drop_duplicates(['hadm_id']) \\\n",
    "      [['first_careunit','hosp_los']] \\\n",
    "      .groupby('first_careunit').quantile(0.75)).T"
   ]
  },
  {
   "cell_type": "markdown",
   "metadata": {
    "collapsed": true
   },
   "source": [
    "### ICU mortality, percent of unit stays"
   ]
  },
  {
   "cell_type": "code",
   "execution_count": 29,
   "metadata": {
    "collapsed": false
   },
   "outputs": [
    {
     "name": "stdout",
     "output_type": "stream",
     "text": [
      "ICU mortality, number:\n",
      "\n",
      "icu_expire_flag\n",
      "0    56913\n",
      "1     4619\n",
      "Name: icu_expire_flag, dtype: int64\n",
      "\n",
      "ICU mortality, %:\n",
      "\n",
      "icu_expire_flag\n",
      "0    92.493337\n",
      "1     7.506663\n",
      "Name: icu_expire_flag, dtype: float64\n",
      "\n",
      "ICU mortality by careunit:\n",
      "\n",
      "first_careunit  icu_expire_flag\n",
      "CCU             0                   7041\n",
      "                1                    685\n",
      "CSRU            0                   9502\n",
      "                1                    353\n",
      "MICU            0                  18866\n",
      "                1                   2222\n",
      "NICU            0                   8047\n",
      "                1                     53\n",
      "SICU            0                   8078\n",
      "                1                    813\n",
      "TSICU           0                   5379\n",
      "                1                    493\n",
      "Name: icu_expire_flag, dtype: int64\n",
      "\n",
      "Proportion by unit:\n",
      "\n",
      "first_careunit  icu_expire_flag\n",
      "CCU             0                  91.133834\n",
      "                1                   8.866166\n",
      "CSRU            0                  96.418062\n",
      "                1                   3.581938\n",
      "MICU            0                  89.463202\n",
      "                1                  10.536798\n",
      "NICU            0                  99.345679\n",
      "                1                   0.654321\n",
      "SICU            0                  90.855922\n",
      "                1                   9.144078\n",
      "TSICU           0                  91.604223\n",
      "                1                   8.395777\n",
      "Name: icu_expire_flag, dtype: float64\n"
     ]
    }
   ],
   "source": [
    "print('ICU mortality, number:\\n')\n",
    "print(query_output \\\n",
    "    .groupby(['icu_expire_flag']) \\\n",
    "    .icu_expire_flag.count())\n",
    "\n",
    "print('\\nICU mortality, %:\\n')\n",
    "print(query_output.groupby(['icu_expire_flag']) \\\n",
    "    .icu_expire_flag.count() / query_output.icu_expire_flag.count()*100)\n",
    "\n",
    "print('\\nICU mortality by careunit:\\n')\n",
    "print(query_output \\\n",
    "    .groupby(['first_careunit','icu_expire_flag']) \\\n",
    "    .icu_expire_flag.count())\n",
    "\n",
    "print('\\nProportion by unit:\\n')\n",
    "print(query_output \\\n",
    "    .groupby(['first_careunit','icu_expire_flag']) \\\n",
    "    .icu_expire_flag.count()/query_output \\\n",
    "    .groupby(['first_careunit']).icu_expire_flag.count())*100"
   ]
  },
  {
   "cell_type": "markdown",
   "metadata": {},
   "source": [
    "### Hospital mortality, percent of unit stays"
   ]
  },
  {
   "cell_type": "code",
   "execution_count": 30,
   "metadata": {
    "collapsed": false
   },
   "outputs": [
    {
     "name": "stdout",
     "output_type": "stream",
     "text": [
      "Hospital mortality, number:\n",
      "\n",
      "hospital_expire_flag\n",
      "0    51973\n",
      "1     5813\n",
      "Name: hospital_expire_flag, dtype: int64\n",
      "\n",
      "Hospital mortality, %:\n",
      "\n",
      "hospital_expire_flag\n",
      "0    89.94047\n",
      "1    10.05953\n",
      "Name: hospital_expire_flag, dtype: float64\n",
      "\n",
      "Hospital mortality:\n",
      "\n",
      "first_careunit  hospital_expire_flag\n",
      "CCU             0                        6441\n",
      "                1                         817\n",
      "CSRU            0                        8733\n",
      "                1                         424\n",
      "MICU            0                       16912\n",
      "                1                        2859\n",
      "NICU            0                        7928\n",
      "                1                          64\n",
      "SICU            0                        7090\n",
      "                1                        1020\n",
      "TSICU           0                        4869\n",
      "                1                         629\n",
      "Name: hospital_expire_flag, dtype: int64\n",
      "\n",
      "Proportion by unit:\n",
      "\n",
      "first_careunit  hospital_expire_flag\n",
      "CCU             0                       88.743455\n",
      "                1                       11.256545\n",
      "CSRU            0                       95.369663\n",
      "                1                        4.630337\n",
      "MICU            0                       85.539426\n",
      "                1                       14.460574\n",
      "NICU            0                       99.199199\n",
      "                1                        0.800801\n",
      "SICU            0                       87.422935\n",
      "                1                       12.577065\n",
      "TSICU           0                       88.559476\n",
      "                1                       11.440524\n",
      "Name: hospital_expire_flag, dtype: float64\n"
     ]
    }
   ],
   "source": [
    "# NB: hadm_id is repeated in data due to multiple ICU stays\n",
    "# ...so need to drop duplicates\n",
    "print('Hospital mortality, number:\\n')\n",
    "print(query_output.drop_duplicates(['hadm_id']) \\\n",
    "    .groupby(['hospital_expire_flag']) \\\n",
    "    .hospital_expire_flag.count())\n",
    "\n",
    "print('\\nHospital mortality, %:\\n')\n",
    "print(query_output.drop_duplicates(['hadm_id']) \\\n",
    "    .groupby(['hospital_expire_flag']) \\\n",
    "    .hospital_expire_flag.count() \\\n",
    "    / query_output.drop_duplicates(['hadm_id']).hospital_expire_flag.count()*100)\n",
    "\n",
    "print('\\nHospital mortality:\\n')\n",
    "print(query_output.drop_duplicates(['hadm_id']) \\\n",
    "    .groupby(['first_careunit','hospital_expire_flag']) \\\n",
    "    .hospital_expire_flag.count())\n",
    "\n",
    "print('\\nProportion by unit:\\n')\n",
    "print(query_output.drop_duplicates(['hadm_id']) \\\n",
    "    .groupby(['first_careunit','hospital_expire_flag']) \\\n",
    "    .hospital_expire_flag.count()/query_output.drop_duplicates(['hadm_id']) \\\n",
    "    .groupby(['first_careunit']).hospital_expire_flag.count())*100"
   ]
  },
  {
   "cell_type": "markdown",
   "metadata": {},
   "source": [
    "## Table 3: Distribution of primary ICD-9 codes in MIMIC-II"
   ]
  },
  {
   "cell_type": "code",
   "execution_count": 31,
   "metadata": {
    "collapsed": false
   },
   "outputs": [],
   "source": [
    "# Connect to MIMIC\n",
    "con = psycopg2.connect(dbname=dbname, user=sqluser)\n",
    "cur = con.cursor()\n",
    "cur.execute('SET search_path to ' + schema_name)\n",
    "# cur.close()\n",
    "# con.close()"
   ]
  },
  {
   "cell_type": "code",
   "execution_count": 32,
   "metadata": {
    "collapsed": false
   },
   "outputs": [
    {
     "name": "stdout",
     "output_type": "stream",
     "text": [
      "   subject_id  hadm_id  icustay_id first_careunit  seq_num icd9_code  \\\n",
      "0           3   145834      211552           MICU        1      0389   \n",
      "1           4   185777      294638           MICU        1       042   \n",
      "2           6   107064      228232           SICU        1     40391   \n",
      "3           9   150750      220597           MICU        1       431   \n",
      "4          11   194540      229441           SICU        1      1913   \n",
      "\n",
      "  icd_first3  icd_first3_num  icd_first3_grp               short_title  \n",
      "0        038              38               0            Septicemia NOS  \n",
      "1        042              42               0    Human immuno virus dis  \n",
      "2        403             403               3    Hyp kid NOS w cr kid V  \n",
      "3        431             431               3  Intracerebral hemorrhage  \n",
      "4        191             191               1     Mal neo parietal lobe  \n"
     ]
    }
   ],
   "source": [
    "# ICD Diagnoses are associated with hospital admissions, not ICU stay\n",
    "# ...so select first ICU stay for breakdown.\n",
    "# Select patients >= 16 on first admission\n",
    "\n",
    "query = \\\n",
    "\"\"\"\n",
    "WITH diagnoses_icu AS (\n",
    "SELECT a.subject_id, a.hadm_id, i.icustay_id, \n",
    "    a.admittime as hosp_admittime, a.dischtime as hosp_dischtime, \n",
    "    i.first_careunit, \n",
    "    DENSE_RANK() over(PARTITION BY a.hadm_id ORDER BY i.intime ASC) as icu_seq,\n",
    "    p.dob, p.dod, i.intime as icu_intime, i.outtime as icu_outtime, \n",
    "    i.los as icu_los,\n",
    "    round((EXTRACT(EPOCH FROM (a.dischtime-a.admittime))/60/60/24) :: NUMERIC, 4) as hosp_los, \n",
    "    p.gender, \n",
    "    round((EXTRACT(EPOCH FROM (a.admittime-p.dob))/60/60/24/365.242) :: NUMERIC, 4) as age_hosp_in,\n",
    "    round((EXTRACT(EPOCH FROM (i.intime-p.dob))/60/60/24/365.242) :: NUMERIC, 4) as age_icu_in,\n",
    "    hospital_expire_flag,\n",
    "    CASE WHEN p.dod IS NOT NULL \n",
    "        AND p.dod >= i.intime - interval '6 hour'\n",
    "        AND p.dod <= i.outtime + interval '6 hour' THEN 1 \n",
    "        ELSE 0 END AS icu_expire_flag\n",
    "    FROM admissions a\n",
    "    INNER JOIN icustays i\n",
    "    ON a.hadm_id = i.hadm_id\n",
    "    INNER JOIN patients p\n",
    "    ON a.subject_id = p.subject_id\n",
    "    ORDER BY a.subject_id, i.intime)\n",
    "SELECT d.subject_id, d.hadm_id, d.icustay_id, d.first_careunit,\n",
    "    icd.seq_num, icd.icd9_code, left(icd.icd9_code,3) AS icd_first3, \n",
    "    CASE\n",
    "        WHEN lower(LEFT(icd.icd9_code,1)) = 'e' THEN NULL\n",
    "        WHEN lower(LEFT(icd.icd9_code,1)) = 'v' THEN NULL\n",
    "        ELSE CAST( LEFT(icd.icd9_code,3) AS INT) END AS icd_first3_num,\n",
    "    CASE \n",
    "        WHEN lower(LEFT(icd.icd9_code,1)) = 'e' THEN 9\n",
    "        WHEN lower(LEFT(icd.icd9_code,1)) = 'v' THEN 9\n",
    "        WHEN CAST( LEFT(icd.icd9_code,3) AS INT) >=0 \n",
    "            AND CAST( LEFT(icd.icd9_code,3) AS INT) <= 139 THEN 0\n",
    "        WHEN CAST( LEFT(icd.icd9_code,3) AS INT) >=140 \n",
    "            AND CAST( LEFT(icd.icd9_code,3) AS INT) <= 239 THEN 1\n",
    "        WHEN CAST( LEFT(icd.icd9_code,3) AS INT) >=240 \n",
    "            AND CAST( LEFT(icd.icd9_code,3) AS INT) <= 279 THEN 2\n",
    "        WHEN CAST( LEFT(icd.icd9_code,3) AS INT) >=390 \n",
    "            AND CAST( LEFT(icd.icd9_code,3) AS INT) <= 459 THEN 3\n",
    "        WHEN CAST( LEFT(icd.icd9_code,3) AS INT) >=460 \n",
    "            AND CAST( LEFT(icd.icd9_code,3) AS INT) <= 519 THEN 4\n",
    "        WHEN CAST( LEFT(icd.icd9_code,3) AS INT) >=520 \n",
    "            AND CAST( LEFT(icd.icd9_code,3) AS INT) <= 579 THEN 5\n",
    "        WHEN CAST( LEFT(icd.icd9_code,3) AS INT) >=580 \n",
    "            AND CAST( LEFT(icd.icd9_code,3) AS INT) <= 629 THEN 6\n",
    "        WHEN CAST( LEFT(icd.icd9_code,3) AS INT) >=800 \n",
    "            AND CAST( LEFT(icd.icd9_code,3) AS INT) <= 959 THEN 7\n",
    "        WHEN CAST( LEFT(icd.icd9_code,3) AS INT) >=960 \n",
    "            AND CAST( LEFT(icd.icd9_code,3) AS INT) <= 989 THEN 8\n",
    "        ELSE 9 END AS icd_first3_grp, \n",
    "    d_icd.short_title\n",
    "FROM diagnoses_icu d\n",
    "INNER JOIN diagnoses_icd icd\n",
    "    ON d.hadm_id = icd.hadm_id\n",
    "INNER JOIN d_icd_diagnoses d_icd\n",
    "    ON icd.icd9_code = d_icd.icd9_code\n",
    "WHERE seq_num =1\n",
    "    AND age_hosp_in >=16;\n",
    "\"\"\"\n",
    "\n",
    "query_output = pd.read_sql_query(query,con)\n",
    "print(query_output.head())"
   ]
  },
  {
   "cell_type": "markdown",
   "metadata": {},
   "source": [
    "### Most common ICD-9 codes"
   ]
  },
  {
   "cell_type": "code",
   "execution_count": 33,
   "metadata": {
    "collapsed": false
   },
   "outputs": [
    {
     "name": "stdout",
     "output_type": "stream",
     "text": [
      "Primary ICD diagnoses by frequency:\n",
      "\n",
      "41401    3496\n",
      "0389     2069\n",
      "41071    1751\n",
      "4241     1140\n",
      "51881    1127\n",
      "dtype: int64\n",
      "\n",
      "Primary ICD diagnoses, %:\n",
      "\n",
      "41401    7.122629\n",
      "0389     4.215309\n",
      "41071    3.567427\n",
      "4241     2.322596\n",
      "51881    2.296111\n",
      "dtype: float64\n"
     ]
    }
   ],
   "source": [
    "print('Primary ICD diagnoses by frequency:\\n')\n",
    "print(query_output.drop_duplicates(['hadm_id'])['icd9_code'].value_counts().head())\n",
    "\n",
    "print('\\nPrimary ICD diagnoses, %:\\n')\n",
    "print(query_output.drop_duplicates(['hadm_id'])['icd9_code'].value_counts().head() \\\n",
    "     /len(query_output.drop_duplicates(['hadm_id'])['icd9_code'])*100)"
   ]
  },
  {
   "cell_type": "markdown",
   "metadata": {},
   "source": [
    "### ICD-9 codes by careunit"
   ]
  },
  {
   "cell_type": "code",
   "execution_count": 34,
   "metadata": {
    "collapsed": false
   },
   "outputs": [
    {
     "name": "stdout",
     "output_type": "stream",
     "text": [
      "Primary ICD diagnoses by ICU stay:\n",
      "\n",
      "     CCU  CSRU   MICU  SICU  TSICU  Total\n",
      "0    305    72   3229   448    152   4206\n",
      "1    126   287   1415  1225    466   3519\n",
      "2    104    36    985   178     54   1357\n",
      "3   5131  7138   2638  2356    684  17947\n",
      "4    416   141   3393   390    225   4565\n",
      "5    264   157   3046  1193    440   5100\n",
      "6    130    14    738   101     31   1014\n",
      "7     97   494    480   836   2809   4716\n",
      "8     50     2    584    58     11    705\n",
      "9    565   739   2883  1204    563   5954\n",
      "10  7188  9080  19391  7989   5435  49083\n",
      "\n",
      "Proportion by careunit:\n",
      "\n",
      "          CCU       CSRU       MICU       SICU      TSICU       Total\n",
      "0    4.243183   0.792952  16.652055   5.607711   2.796688    8.569158\n",
      "1    1.752922   3.160793   7.297200  15.333584   8.574057    7.169488\n",
      "2    1.446856   0.396476   5.079676   2.228064   0.993560    2.764705\n",
      "3   71.382860  78.612335  13.604249  29.490550  12.585097   36.564595\n",
      "4    5.787423   1.552863  17.497808   4.881712   4.139834    9.300572\n",
      "5    3.672788   1.729075  15.708318  14.933033   8.095676   10.390563\n",
      "6    1.808570   0.154185   3.805889   1.264238   0.570377    2.065888\n",
      "7    1.349471   5.440529   2.475375  10.464389  51.683533    9.608215\n",
      "8    0.695604   0.022026   3.011706   0.725998   0.202392    1.436343\n",
      "9    7.860323   8.138767  14.867722  15.070722  10.358786   12.130473\n",
      "10  14.644582  18.499277  39.506550  16.276511  11.073080  100.000000\n"
     ]
    }
   ],
   "source": [
    "print('Primary ICD diagnoses by ICU stay:\\n')\n",
    "a=query_output.drop_duplicates(['hadm_id']).loc[query_output.first_careunit=='CCU']['icd_first3_grp'].value_counts()\n",
    "b=query_output.drop_duplicates(['hadm_id']).loc[query_output.first_careunit=='CSRU']['icd_first3_grp'].value_counts()\n",
    "c=query_output.drop_duplicates(['hadm_id']).loc[query_output.first_careunit=='MICU']['icd_first3_grp'].value_counts()\n",
    "d=query_output.drop_duplicates(['hadm_id']).loc[query_output.first_careunit=='SICU']['icd_first3_grp'].value_counts()\n",
    "e=query_output.drop_duplicates(['hadm_id']).loc[query_output.first_careunit=='TSICU']['icd_first3_grp'].value_counts()\n",
    "f=query_output.drop_duplicates(['hadm_id'])['icd_first3_grp'].value_counts()\n",
    "df_num=pd.concat([a,b,c,d,e,f],axis=1)\n",
    "df_num.fillna(value=0, inplace=True)\n",
    "df_num.columns = ['CCU', 'CSRU','MICU','SICU','TSICU','Total']\n",
    "# Append a totals row\n",
    "print(df_num.append(df_num.sum(), ignore_index=True))\n",
    "\n",
    "print('\\nProportion by careunit:\\n')\n",
    "a=(a/query_output.drop_duplicates(['hadm_id']).loc[query_output.first_careunit=='CCU']['icd_first3_grp'].count())*100\n",
    "b=(b/query_output.drop_duplicates(['hadm_id']).loc[query_output.first_careunit=='CSRU']['icd_first3_grp'].count())*100\n",
    "c=(c/query_output.drop_duplicates(['hadm_id']).loc[query_output.first_careunit=='MICU']['icd_first3_grp'].count())*100\n",
    "d=(d/query_output.drop_duplicates(['hadm_id']).loc[query_output.first_careunit=='SICU']['icd_first3_grp'].count())*100\n",
    "e=(e/query_output.drop_duplicates(['hadm_id']).loc[query_output.first_careunit=='TSICU']['icd_first3_grp'].count())*100\n",
    "f=(f/query_output.drop_duplicates(['hadm_id'])['icd_first3_grp'].count())*100\n",
    "df_percent=pd.concat([a,b,c,d,e,f],axis=1)\n",
    "df_percent.fillna(value=0, inplace=True)\n",
    "df_percent.columns = ['CCU', 'CSRU','MICU','SICU','TSICU','Total']\n",
    "# Append a totals row\n",
    "print(df_percent.append( df_num.sum() * 100 / df_num.Total.sum(), ignore_index=True))"
   ]
  },
  {
   "cell_type": "markdown",
   "metadata": {},
   "source": [
    "### Distribution of ICD codes, normalised by careunit"
   ]
  },
  {
   "cell_type": "code",
   "execution_count": 35,
   "metadata": {
    "collapsed": false
   },
   "outputs": [
    {
     "data": {
      "image/png": "[encoded data removed]",
      "text/plain": [
       "<matplotlib.figure.Figure at 0x105019190>"
      ]
     },
     "metadata": {},
     "output_type": "display_data"
    }
   ],
   "source": [
    "data = df_percent[['CCU', 'CSRU','MICU','SICU','TSICU']].values\n",
    "row_labels = list(['CCU', 'CSRU','MICU','SICU','TSICU'])\n",
    "column_labels = list(\n",
    "    ['Infectious and parasitic diseases',\n",
    "     'Neoplasms of digestive organs and intrathoracic organs, etc',\n",
    "     'Endocrine, nutritional, metabolic, and immunity',\n",
    "     'Diseases of the circulatory system',\n",
    "     'Pulmonary diseases',\n",
    "     'Diseases of the digestive system',\n",
    "     'Diseases of the genitourinary system',\n",
    "     'Trauma',\n",
    "     'Poisoning by drugs and biological substances',\n",
    "     'Other'])\n",
    "fig, ax = plt.subplots()\n",
    "heatmap = ax.pcolor(data, cmap=plt.cm.jet)\n",
    "\n",
    "# move labels to top\n",
    "ax.xaxis.tick_top()\n",
    "\n",
    "# put the major ticks at the middle of each cell\n",
    "ax.set_xticks(np.arange(data.shape[1])+0.5, minor=False)\n",
    "ax.set_yticks(np.arange(data.shape[0])+0.5, minor=False)\n",
    "\n",
    "ax.set_xticklabels(row_labels, minor=False)\n",
    "ax.set_yticklabels(column_labels, minor=False)\n",
    "plt.show()"
   ]
  },
  {
   "cell_type": "code",
   "execution_count": null,
   "metadata": {
    "collapsed": true
   },
   "outputs": [],
   "source": []
  }
 ],
 "metadata": {
  "kernelspec": {
   "display_name": "Python 2",
   "language": "python",
   "name": "python2"
  },
  "language_info": {
   "codemirror_mode": {
    "name": "ipython",
    "version": 2
   },
   "file_extension": ".py",
   "mimetype": "text/x-python",
   "name": "python",
   "nbconvert_exporter": "python",
   "pygments_lexer": "ipython2",
   "version": "2.7.10"
  }
 },
 "nbformat": 4,
 "nbformat_minor": 0
}
