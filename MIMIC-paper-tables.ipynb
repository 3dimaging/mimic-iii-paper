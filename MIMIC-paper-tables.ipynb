{
 "cells": [
  {
   "cell_type": "markdown",
   "metadata": {},
   "source": [
    "# Code used to create tables in the MIMIC-III paper"
   ]
  },
  {
   "cell_type": "markdown",
   "metadata": {},
   "source": [
    "## Table 2: MIMIC-II patient population by critical care unit"
   ]
  },
  {
   "cell_type": "code",
   "execution_count": null,
   "metadata": {
    "collapsed": true
   },
   "outputs": [],
   "source": [
    "# Import libraries\n",
    "import numpy as np\n",
    "import pandas as pd\n",
    "import matplotlib.pyplot as plt\n",
    "import psycopg2\n",
    "%matplotlib inline"
   ]
  },
  {
   "cell_type": "code",
   "execution_count": null,
   "metadata": {
    "collapsed": true
   },
   "outputs": [],
   "source": [
    "# Config\n",
    "sqluser = 'postgres'\n",
    "dbname = 'mimic'\n",
    "schema_name = 'mimiciii'"
   ]
  },
  {
   "cell_type": "code",
   "execution_count": null,
   "metadata": {
    "collapsed": false
   },
   "outputs": [],
   "source": [
    "# Connect to MIMIC\n",
    "con = psycopg2.connect(dbname=dbname, user=sqluser)\n",
    "cur = con.cursor()\n",
    "cur.execute('SET search_path to ' + schema_name)\n",
    "# cur.close()\n",
    "# con.close()"
   ]
  },
  {
   "cell_type": "markdown",
   "metadata": {},
   "source": [
    "These are the details that we would like to include in Table 2, grouped by first careunit:\n",
    "\n",
    "- Hospital admissions, no. (% of total admissions)\n",
    "- Distinct ICU stays, no. (% of total unit stays)\n",
    "- Age, yrs, mean ± SD\n",
    "- Gender, male, percent of unit stays\n",
    "- ICU length of stay, median days (IQR)\n",
    "- Hospital length of stay, median days (IQR)\n",
    "- ICU mortality, percent of unit stays\n",
    "- Hospital mortality, percent of unit stays"
   ]
  },
  {
   "cell_type": "markdown",
   "metadata": {},
   "source": [
    "### Extract and review the data"
   ]
  },
  {
   "cell_type": "code",
   "execution_count": null,
   "metadata": {
    "collapsed": false
   },
   "outputs": [],
   "source": [
    "# Join admissions, icustays, and patients tables\n",
    "\n",
    "query = \\\n",
    "\"\"\"\n",
    "SELECT a.subject_id, a.hadm_id, i.icustay_id, \n",
    "    a.admittime as hosp_admittime, a.dischtime as hosp_dischtime, \n",
    "    i.first_careunit, \n",
    "    DENSE_RANK() over(PARTITION BY a.hadm_id ORDER BY i.intime ASC) as icu_seq,\n",
    "    p.dob, p.dod, i.intime as icu_intime, i.outtime as icu_outtime, \n",
    "    i.los as icu_los,\n",
    "    round((EXTRACT(EPOCH FROM (a.dischtime-a.admittime))/60/60/24) :: NUMERIC, 4) as hosp_los, \n",
    "    p.gender, \n",
    "    round((EXTRACT(EPOCH FROM (a.admittime-p.dob))/60/60/24/365.242) :: NUMERIC, 4) as age_hosp_in,\n",
    "    round((EXTRACT(EPOCH FROM (i.intime-p.dob))/60/60/24/365.242) :: NUMERIC, 4) as age_icu_in,\n",
    "    hospital_expire_flag,\n",
    "    CASE WHEN p.dod IS NOT NULL \n",
    "        AND p.dod >= i.intime - interval '6 hour'\n",
    "        AND p.dod <= i.outtime + interval '6 hour' THEN 1 \n",
    "        ELSE 0 END AS icu_expire_flag\n",
    "FROM admissions a\n",
    "INNER JOIN icustays i\n",
    "ON a.hadm_id = i.hadm_id\n",
    "INNER JOIN patients p\n",
    "ON a.subject_id = p.subject_id\n",
    "ORDER BY a.subject_id, i.intime;\n",
    "\"\"\"\n",
    "\n",
    "query_output = pd.read_sql_query(query,con)\n",
    "print(query_output.head())"
   ]
  },
  {
   "cell_type": "markdown",
   "metadata": {},
   "source": [
    "### Hospital admissions, no. (% of total admissions)"
   ]
  },
  {
   "cell_type": "code",
   "execution_count": null,
   "metadata": {
    "collapsed": false
   },
   "outputs": [],
   "source": [
    "print('\\nTotal hospital admissions: {}')\\\n",
    "    .format(len(query_output.hadm_id.unique()))\n",
    "\n",
    "print('\\nNumber of hospital admissions by first careunit:\\n')\n",
    "print(query_output[['first_careunit','hadm_id']] \\\n",
    "                    .drop_duplicates(['hadm_id']) \\\n",
    "                    .groupby('first_careunit').count()).T\n",
    "    \n",
    "print('\\nProportion of total hospital admissions:\\n')\n",
    "print(query_output[['first_careunit','hadm_id']] \\\n",
    "                    .drop_duplicates(['hadm_id']) \\\n",
    "                    .groupby('first_careunit') \\\n",
    "                    .count()/len(query_output.hadm_id.unique())*100).T"
   ]
  },
  {
   "cell_type": "markdown",
   "metadata": {},
   "source": [
    "### Distinct ICU stays, no. (% of total unit stays)"
   ]
  },
  {
   "cell_type": "code",
   "execution_count": null,
   "metadata": {
    "collapsed": false
   },
   "outputs": [],
   "source": [
    "print('\\nTotal ICU stays: {}')\\\n",
    "    .format(len(query_output.icustay_id.unique()))\n",
    "\n",
    "print('\\nNumber of ICU stays by careunit:\\n')\n",
    "print(query_output[['first_careunit','icustay_id']] \\\n",
    "          .groupby('first_careunit').count()).T\n",
    "\n",
    "print('\\nProportion of total ICU stays:\\n')\n",
    "print(query_output[['first_careunit','icustay_id']] \\\n",
    "          .groupby('first_careunit') \\\n",
    "          .count()/len(query_output.icustay_id.unique())*100).T"
   ]
  },
  {
   "cell_type": "markdown",
   "metadata": {},
   "source": [
    "### Age, yrs, median ± IQR"
   ]
  },
  {
   "cell_type": "code",
   "execution_count": null,
   "metadata": {
    "collapsed": false
   },
   "outputs": [],
   "source": [
    "# Better to report median IQR because >89 appear as 300\n",
    "print('Median age, years: {} ').format(query_output.age_icu_in.median())\n",
    "print('Lower quartile age, years: {} ').format(query_output.age_icu_in.quantile(0.25))\n",
    "print('Upper quartile age, years: {} \\n ').format(query_output.age_icu_in.quantile(0.75))\n",
    "\n",
    "print('Median age by careunit, years:\\n ')\n",
    "print(query_output[['first_careunit','age_icu_in']] \\\n",
    "      .groupby('first_careunit').median()).T\n",
    "\n",
    "print('\\nLower quartile by careunit, years:\\n ')\n",
    "print(query_output[['first_careunit','age_icu_in']] \\\n",
    "      .groupby('first_careunit').quantile(0.25)).T\n",
    "\n",
    "print('\\nUpper quartile by careunit, years:\\n ')\n",
    "print(query_output[['first_careunit','age_icu_in']] \\\n",
    "      .groupby('first_careunit').quantile(0.75)).T\n"
   ]
  },
  {
   "cell_type": "markdown",
   "metadata": {},
   "source": [
    "### Gender, male, percent of unit stays"
   ]
  },
  {
   "cell_type": "code",
   "execution_count": null,
   "metadata": {
    "collapsed": false
   },
   "outputs": [],
   "source": [
    "print('Gender:\\n')\n",
    "print(query_output.loc[query_output.icu_seq==1].groupby('gender').gender.count())\n",
    "print(query_output.loc[query_output.icu_seq==1].groupby('gender').gender.count() \\\n",
    "     /query_output.loc[query_output.icu_seq==1].gender.count()*100)\n",
    "\n",
    "print('Gender by careunit:\\n')\n",
    "print(query_output.loc[query_output.icu_seq==1] \\\n",
    "    .groupby(['first_careunit','gender']).gender.count())\n",
    "\n",
    "print('\\nProportion by unit:\\n')\n",
    "print(query_output.loc[query_output.icu_seq==1] \\\n",
    "    .groupby(['first_careunit','gender']) \\\n",
    "    .gender.count()/query_output.loc[query_output.icu_seq==1] \\\n",
    "    .groupby(['first_careunit']).gender.count())*100"
   ]
  },
  {
   "cell_type": "markdown",
   "metadata": {},
   "source": [
    "### ICU length of stay, median days (IQR)"
   ]
  },
  {
   "cell_type": "code",
   "execution_count": null,
   "metadata": {
    "collapsed": false
   },
   "outputs": [],
   "source": [
    "print('Median ICU length of stay, days: {}').format(query_output.icu_los.median())\n",
    "print('Lower quartile ICU length of stay, days: {}') \\\n",
    "    .format(query_output.icu_los.quantile(0.25))\n",
    "print('Upper quartile ICU length of stay, days: {}\\n') \\\n",
    "    .format(query_output.icu_los.quantile(0.75))\n",
    "\n",
    "print('Median length of ICU stay by careunit, days:\\n ')\n",
    "print(query_output[['first_careunit','icu_los']] \\\n",
    "      .groupby('first_careunit').median()).T\n",
    "\n",
    "print('\\nLower quartile length of ICU stay, days:\\n ')\n",
    "print(query_output[['first_careunit','icu_los']] \\\n",
    "      .groupby('first_careunit').quantile(0.25)).T\n",
    "\n",
    "print('\\nUpper quartile length of ICU stay, days:\\n ')\n",
    "print(query_output[['first_careunit','icu_los']] \\\n",
    "      .groupby('first_careunit').quantile(0.75)).T\n"
   ]
  },
  {
   "cell_type": "markdown",
   "metadata": {},
   "source": [
    "### Hospital length of stay, median days (IQR)"
   ]
  },
  {
   "cell_type": "code",
   "execution_count": null,
   "metadata": {
    "collapsed": false
   },
   "outputs": [],
   "source": [
    "# NB: hadm_id is repeated in data due to multiple ICU stays\n",
    "# ...so need to drop duplicates\n",
    "print('Median length of hospital stay, days: {}') \\\n",
    "    .format(query_output.drop_duplicates(['hadm_id']).hosp_los.median())\n",
    "print('Lower quartile length of hospital stay, days: {}') \\\n",
    "    .format(query_output.drop_duplicates(['hadm_id']).hosp_los.quantile(0.25))\n",
    "print('Upper quartile length of hospital stay, days: {}\\n') \\\n",
    "    .format(query_output.drop_duplicates(['hadm_id']).hosp_los.quantile(0.75))\n",
    "\n",
    "print('Median length of hospital stay, days:\\n ')\n",
    "print(query_output.drop_duplicates(['hadm_id']) \\\n",
    "      [['first_careunit','hosp_los']] \\\n",
    "      .groupby('first_careunit').median()).T\n",
    "\n",
    "print('\\nLower quartile length of hospital stay, days:\\n ')\n",
    "print(query_output.drop_duplicates(['hadm_id']) \\\n",
    "      [['first_careunit','hosp_los']] \\\n",
    "      .groupby('first_careunit').quantile(0.25)).T\n",
    "\n",
    "print('\\nUpper quartile length of hospital stay, days:\\n ')\n",
    "print(query_output.drop_duplicates(['hadm_id']) \\\n",
    "      [['first_careunit','hosp_los']] \\\n",
    "      .groupby('first_careunit').quantile(0.75)).T"
   ]
  },
  {
   "cell_type": "markdown",
   "metadata": {
    "collapsed": true
   },
   "source": [
    "### ICU mortality, percent of unit stays"
   ]
  },
  {
   "cell_type": "code",
   "execution_count": null,
   "metadata": {
    "collapsed": false
   },
   "outputs": [],
   "source": [
    "print('ICU mortality, number:\\n')\n",
    "print(query_output \\\n",
    "    .groupby(['icu_expire_flag']) \\\n",
    "    .icu_expire_flag.count())\n",
    "\n",
    "print('\\nICU mortality, %:\\n')\n",
    "print(query_output.groupby(['icu_expire_flag']) \\\n",
    "    .icu_expire_flag.count() / query_output.icu_expire_flag.count()*100)\n",
    "\n",
    "print('\\nICU mortality by careunit:\\n')\n",
    "print(query_output \\\n",
    "    .groupby(['first_careunit','icu_expire_flag']) \\\n",
    "    .icu_expire_flag.count())\n",
    "\n",
    "print('\\nProportion by unit:\\n')\n",
    "print(query_output \\\n",
    "    .groupby(['first_careunit','icu_expire_flag']) \\\n",
    "    .icu_expire_flag.count()/query_output \\\n",
    "    .groupby(['first_careunit']).icu_expire_flag.count())*100"
   ]
  },
  {
   "cell_type": "markdown",
   "metadata": {},
   "source": [
    "### Hospital mortality, percent of unit stays"
   ]
  },
  {
   "cell_type": "code",
   "execution_count": null,
   "metadata": {
    "collapsed": false
   },
   "outputs": [],
   "source": [
    "# NB: hadm_id is repeated in data due to multiple ICU stays\n",
    "# ...so need to drop duplicates\n",
    "print('Hospital mortality, number:\\n')\n",
    "print(query_output.drop_duplicates(['hadm_id']) \\\n",
    "    .groupby(['hospital_expire_flag']) \\\n",
    "    .hospital_expire_flag.count())\n",
    "\n",
    "print('\\nHospital mortality, %:\\n')\n",
    "print(query_output.drop_duplicates(['hadm_id']) \\\n",
    "    .groupby(['hospital_expire_flag']) \\\n",
    "    .hospital_expire_flag.count() \\\n",
    "    / query_output.drop_duplicates(['hadm_id']).hospital_expire_flag.count()*100)\n",
    "\n",
    "print('\\nHospital mortality:\\n')\n",
    "print(query_output.drop_duplicates(['hadm_id']) \\\n",
    "    .groupby(['first_careunit','hospital_expire_flag']) \\\n",
    "    .hospital_expire_flag.count())\n",
    "\n",
    "print('\\nProportion by unit:\\n')\n",
    "print(query_output.drop_duplicates(['hadm_id']) \\\n",
    "    .groupby(['first_careunit','hospital_expire_flag']) \\\n",
    "    .hospital_expire_flag.count()/query_output.drop_duplicates(['hadm_id']) \\\n",
    "    .groupby(['first_careunit']).hospital_expire_flag.count())*100"
   ]
  },
  {
   "cell_type": "markdown",
   "metadata": {},
   "source": [
    "## Table 3: Distribution of primary ICD-9 codes in MIMIC-II"
   ]
  },
  {
   "cell_type": "code",
   "execution_count": null,
   "metadata": {
    "collapsed": false
   },
   "outputs": [],
   "source": [
    "# Connect to MIMIC\n",
    "con = psycopg2.connect(dbname=dbname, user=sqluser)\n",
    "cur = con.cursor()\n",
    "cur.execute('SET search_path to ' + schema_name)\n",
    "# cur.close()\n",
    "# con.close()"
   ]
  },
  {
   "cell_type": "code",
   "execution_count": null,
   "metadata": {
    "collapsed": false
   },
   "outputs": [],
   "source": [
    "# ICD Diagnoses are associated with hospital admissions, not ICU stay\n",
    "# ...so select first ICU stay for breakdown.\n",
    "\n",
    "query = \\\n",
    "\"\"\"\n",
    "WITH diagnoses_icu AS (\n",
    "SELECT a.subject_id, a.hadm_id, i.icustay_id, \n",
    "    a.admittime as hosp_admittime, a.dischtime as hosp_dischtime, \n",
    "    i.first_careunit, \n",
    "    DENSE_RANK() over(PARTITION BY a.hadm_id ORDER BY i.intime ASC) as icu_seq,\n",
    "    p.dob, p.dod, i.intime as icu_intime, i.outtime as icu_outtime, \n",
    "    i.los as icu_los,\n",
    "    round((EXTRACT(EPOCH FROM (a.dischtime-a.admittime))/60/60/24) :: NUMERIC, 4) as hosp_los, \n",
    "    p.gender, \n",
    "    round((EXTRACT(EPOCH FROM (a.admittime-p.dob))/60/60/24/365.242) :: NUMERIC, 4) as age_hosp_in,\n",
    "    round((EXTRACT(EPOCH FROM (i.intime-p.dob))/60/60/24/365.242) :: NUMERIC, 4) as age_icu_in,\n",
    "    hospital_expire_flag,\n",
    "    CASE WHEN p.dod IS NOT NULL \n",
    "        AND p.dod >= i.intime - interval '6 hour'\n",
    "        AND p.dod <= i.outtime + interval '6 hour' THEN 1 \n",
    "        ELSE 0 END AS icu_expire_flag\n",
    "    FROM admissions a\n",
    "    INNER JOIN icustays i\n",
    "    ON a.hadm_id = i.hadm_id\n",
    "    INNER JOIN patients p\n",
    "    ON a.subject_id = p.subject_id\n",
    "    ORDER BY a.subject_id, i.intime)\n",
    "SELECT d.subject_id, d.hadm_id, d.icustay_id, d.first_careunit,\n",
    "    icd.seq_num, icd.icd9_code, left(icd.icd9_code,3) AS icd_first3, \n",
    "    CASE\n",
    "        WHEN lower(LEFT(icd.icd9_code,1)) = 'e' THEN NULL\n",
    "        WHEN lower(LEFT(icd.icd9_code,1)) = 'v' THEN NULL\n",
    "        ELSE CAST( LEFT(icd.icd9_code,3) AS INT) END AS icd_first3_num,\n",
    "    CASE \n",
    "        WHEN lower(LEFT(icd.icd9_code,1)) = 'e' THEN 9\n",
    "        WHEN lower(LEFT(icd.icd9_code,1)) = 'v' THEN 9\n",
    "        WHEN CAST( LEFT(icd.icd9_code,3) AS INT) >=0 \n",
    "            AND CAST( LEFT(icd.icd9_code,3) AS INT) <= 139 THEN 0\n",
    "        WHEN CAST( LEFT(icd.icd9_code,3) AS INT) >=140 \n",
    "            AND CAST( LEFT(icd.icd9_code,3) AS INT) <= 239 THEN 1\n",
    "        WHEN CAST( LEFT(icd.icd9_code,3) AS INT) >=240 \n",
    "            AND CAST( LEFT(icd.icd9_code,3) AS INT) <= 279 THEN 2\n",
    "        WHEN CAST( LEFT(icd.icd9_code,3) AS INT) >=390 \n",
    "            AND CAST( LEFT(icd.icd9_code,3) AS INT) <= 459 THEN 3\n",
    "        WHEN CAST( LEFT(icd.icd9_code,3) AS INT) >=460 \n",
    "            AND CAST( LEFT(icd.icd9_code,3) AS INT) <= 519 THEN 4\n",
    "        WHEN CAST( LEFT(icd.icd9_code,3) AS INT) >=520 \n",
    "            AND CAST( LEFT(icd.icd9_code,3) AS INT) <= 579 THEN 5\n",
    "        WHEN CAST( LEFT(icd.icd9_code,3) AS INT) >=580 \n",
    "            AND CAST( LEFT(icd.icd9_code,3) AS INT) <= 629 THEN 6\n",
    "        WHEN CAST( LEFT(icd.icd9_code,3) AS INT) >=800 \n",
    "            AND CAST( LEFT(icd.icd9_code,3) AS INT) <= 959 THEN 7\n",
    "        WHEN CAST( LEFT(icd.icd9_code,3) AS INT) >=960 \n",
    "            AND CAST( LEFT(icd.icd9_code,3) AS INT) <= 989 THEN 8\n",
    "        ELSE 9 END AS icd_first3_grp, \n",
    "    d_icd.short_title\n",
    "FROM diagnoses_icu d\n",
    "INNER JOIN diagnoses_icd icd\n",
    "    ON d.hadm_id = icd.hadm_id\n",
    "INNER JOIN d_icd_diagnoses d_icd\n",
    "    ON icd.icd9_code = d_icd.icd9_code\n",
    "WHERE icu_seq = 1\n",
    "    AND seq_num =1;\n",
    "\"\"\"\n",
    "\n",
    "query_output = pd.read_sql_query(query,con)\n",
    "print(query_output.head())"
   ]
  },
  {
   "cell_type": "markdown",
   "metadata": {},
   "source": [
    "### Most common ICD-9 codes"
   ]
  },
  {
   "cell_type": "code",
   "execution_count": null,
   "metadata": {
    "collapsed": false
   },
   "outputs": [],
   "source": [
    "print('Primary ICD diagnoses by frequency:\\n')\n",
    "print(query_output['icd9_code'].value_counts().head())\n",
    "\n",
    "print('\\nPrimary ICD diagnoses, %:\\n')\n",
    "print(query_output['icd9_code'].value_counts().head() \\\n",
    "     /len(query_output['icd9_code'])*100)"
   ]
  },
  {
   "cell_type": "markdown",
   "metadata": {},
   "source": [
    "### ICD-9 codes by careunit"
   ]
  },
  {
   "cell_type": "code",
   "execution_count": null,
   "metadata": {
    "collapsed": false
   },
   "outputs": [],
   "source": [
    "print('Primary ICD diagnoses by first ICU stay:\\n')\n",
    "a=query_output.loc[query_output.first_careunit=='CCU']['icd_first3_grp'].value_counts()\n",
    "b=query_output.loc[query_output.first_careunit=='CSRU']['icd_first3_grp'].value_counts()\n",
    "c=query_output.loc[query_output.first_careunit=='MICU']['icd_first3_grp'].value_counts()\n",
    "d=query_output.loc[query_output.first_careunit=='NICU']['icd_first3_grp'].value_counts()\n",
    "e=query_output.loc[query_output.first_careunit=='SICU']['icd_first3_grp'].value_counts()\n",
    "f=query_output.loc[query_output.first_careunit=='TSICU']['icd_first3_grp'].value_counts()\n",
    "g=query_output['icd_first3_grp'].value_counts()\n",
    "df_num=pd.concat([a,b,c,d,e,f,g],axis=1)\n",
    "df_num.columns = ['CCU', 'CSRU','MICU','NICU','SICU','TSICU','Total']\n",
    "# Append a totals row\n",
    "print(df_num.append(df_num.sum(), ignore_index=True))\n",
    "\n",
    "print('\\nProportion by careunit:\\n')\n",
    "a=(a/query_output.loc[query_output.first_careunit=='CCU']['icd_first3_grp'].count())*100\n",
    "b=(b/query_output.loc[query_output.first_careunit=='CSRU']['icd_first3_grp'].count())*100\n",
    "c=(c/query_output.loc[query_output.first_careunit=='MICU']['icd_first3_grp'].count())*100\n",
    "d=(d/query_output.loc[query_output.first_careunit=='NICU']['icd_first3_grp'].count())*100\n",
    "e=(e/query_output.loc[query_output.first_careunit=='SICU']['icd_first3_grp'].count())*100\n",
    "f=(f/query_output.loc[query_output.first_careunit=='TSICU']['icd_first3_grp'].count())*100\n",
    "g=(g/query_output['icd_first3_grp'].count())*100\n",
    "df_percent=pd.concat([a,b,c,d,e,f,g],axis=1)\n",
    "df_percent.columns = ['CCU', 'CSRU','MICU','NICU','SICU','TSICU','Total']\n",
    "# Append a totals row\n",
    "print(df_percent.append( df_num.sum(), ignore_index=True) / df_num.Total.sum() * 100)"
   ]
  },
  {
   "cell_type": "markdown",
   "metadata": {},
   "source": [
    "### Distribution of ICD codes, normalised by careunit"
   ]
  },
  {
   "cell_type": "code",
   "execution_count": null,
   "metadata": {
    "collapsed": false
   },
   "outputs": [],
   "source": [
    "df_percent.fillna(value=0, inplace=True)\n",
    "data = df_percent[['CCU', 'CSRU','MICU','NICU','SICU','TSICU']].values\n",
    "row_labels = list(['CCU', 'CSRU','MICU','NICU','SICU','TSICU'])\n",
    "column_labels = list(['0','1','2','3','4','5','6','7','8','9'])\n",
    "fig, ax = plt.subplots()\n",
    "heatmap = ax.pcolor(data, cmap=plt.cm.jet)\n",
    "\n",
    "# move labels to top\n",
    "ax.xaxis.tick_top()\n",
    "\n",
    "# put the major ticks at the middle of each cell\n",
    "ax.set_xticks(np.arange(data.shape[1])+0.5, minor=False)\n",
    "ax.set_yticks(np.arange(data.shape[0])+0.5, minor=False)\n",
    "\n",
    "ax.set_xticklabels(row_labels, minor=False)\n",
    "ax.set_yticklabels(column_labels, minor=False)\n",
    "plt.show()"
   ]
  }
 ],
 "metadata": {
  "kernelspec": {
   "display_name": "Python 2",
   "language": "python",
   "name": "python2"
  },
  "language_info": {
   "codemirror_mode": {
    "name": "ipython",
    "version": 2
   },
   "file_extension": ".py",
   "mimetype": "text/x-python",
   "name": "python",
   "nbconvert_exporter": "python",
   "pygments_lexer": "ipython2",
   "version": "2.7.10"
  }
 },
 "nbformat": 4,
 "nbformat_minor": 0
}
